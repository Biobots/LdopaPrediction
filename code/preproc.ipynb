{
 "cells": [
  {
   "cell_type": "code",
   "execution_count": 1,
   "metadata": {},
   "outputs": [],
   "source": [
    "from process.preproc_clinic import writeClinic\n",
    "from process.preproc_img import imgRedir, mvRaw, preprocFSL, preprocCAT12\n",
    "from process.preproc_combine import genHCData, combinePatData\n",
    "from src.feature.base import genROI\n",
    "from src.utils.data import getPandas, getConfig, writeConfig\n",
    "from src.model.stats import stats_analyze\n",
    "import os"
   ]
  },
  {
   "cell_type": "code",
   "execution_count": 2,
   "metadata": {},
   "outputs": [
    {
     "data": {
      "text/plain": [
       "'/home/biobot/disk/ldopa'"
      ]
     },
     "execution_count": 2,
     "metadata": {},
     "output_type": "execute_result"
    }
   ],
   "source": [
    "# Root directory as working directory\n",
    "os.chdir('..')\n",
    "os.getcwd()"
   ]
  },
  {
   "cell_type": "code",
   "execution_count": null,
   "metadata": {},
   "outputs": [],
   "source": [
    "# Get Image Data\n",
    "imgRedir()\n",
    "# Get Clinical Data\n",
    "writeClinic()\n",
    "# Combine Data & Generate HC Data\n",
    "combinePatData()\n",
    "genHCData()\n",
    "# Generate Subject Directory & Move Raw Image Data\n",
    "mvRaw(getPandas('img_raw'))\n",
    "# Now all raw image data and clinical data are set up"
   ]
  },
  {
   "cell_type": "code",
   "execution_count": null,
   "metadata": {},
   "outputs": [],
   "source": [
    "# Image Preprocessing\n",
    "# For Patient Data:\n",
    "preprocFSL('pat_data')\n",
    "preprocCAT12('pat_data')\n",
    "# For HC Data:\n",
    "preprocFSL('hc_data')\n",
    "preprocCAT12('hc_data')\n",
    "\n",
    "# Time Consuming!!!"
   ]
  },
  {
   "cell_type": "code",
   "execution_count": 3,
   "metadata": {},
   "outputs": [],
   "source": [
    "# Dataset Split\n",
    "# One patient may have multiple images, so we need to split the dataset by patient\n",
    "from sklearn.model_selection import GroupShuffleSplit\n",
    "\n",
    "pat = getPandas('pat_data')\n",
    "data_conf = getConfig('data')\n",
    "\n",
    "splitter = GroupShuffleSplit(n_splits=1, test_size=0.2, random_state=0)\n",
    "split = splitter.split(pat, groups=pat['PATNO'])\n",
    "train_inds, test_inds = next(split)"
   ]
  },
  {
   "cell_type": "code",
   "execution_count": 4,
   "metadata": {},
   "outputs": [
    {
     "name": "stdout",
     "output_type": "stream",
     "text": [
      "SEX chi2 p: 0.6017923111110748\n",
      "AGE Normaltest p_train: [0.03305021], p_test: [0.25936315]\n",
      "AGE ranksums p: RanksumsResult(statistic=array([-1.08030697]), pvalue=array([0.28000551]))\n",
      "NUPDR3OF Normaltest p_train: [0.19255173], p_test: [0.04134491]\n",
      "NUPDR3OF ranksums p: RanksumsResult(statistic=array([-0.77829997]), pvalue=array([0.43639219]))\n",
      "LEDD Normaltest p_train: [3.21029424e-11], p_test: [0.00100613]\n",
      "LEDD ranksums p: RanksumsResult(statistic=array([-0.66920493]), pvalue=array([0.50336476]))\n",
      "DURATION Normaltest p_train: [0.00115343], p_test: [0.47174464]\n",
      "DURATION ranksums p: RanksumsResult(statistic=array([-1.09893295]), pvalue=array([0.27179731]))\n",
      "\n"
     ]
    }
   ],
   "source": [
    "# Data Analysis\n",
    "group = data_conf['data_group']\n",
    "x = pat[group['demo'] + group['clinic'] + ['PATNO']]\n",
    "y = pat[['CAT_MDS']]\n",
    "x_clinic_train = x.iloc[train_inds].reset_index(drop=True)\n",
    "x_clinic_test = x.iloc[test_inds].reset_index(drop=True)\n",
    "y_train = y.iloc[train_inds].reset_index(drop=True)\n",
    "y_test = y.iloc[test_inds].reset_index(drop=True)\n",
    "\n",
    "stats_analyze(x_clinic_train, x_clinic_test, y_train, y_test, data_conf)"
   ]
  },
  {
   "cell_type": "code",
   "execution_count": 5,
   "metadata": {},
   "outputs": [],
   "source": [
    "# Save train/test indices to data config\n",
    "data_conf['indices'] = {\n",
    "    'train': train_inds.tolist(),\n",
    "    'test': test_inds.tolist()\n",
    "}\n",
    "writeConfig('data', data_conf)"
   ]
  },
  {
   "attachments": {},
   "cell_type": "markdown",
   "metadata": {},
   "source": [
    "## Feature Extraction"
   ]
  },
  {
   "cell_type": "code",
   "execution_count": null,
   "metadata": {},
   "outputs": [],
   "source": [
    "## Texture Features\n",
    "# Generate ROI\n",
    "genROI()"
   ]
  }
 ],
 "metadata": {
  "kernelspec": {
   "display_name": "Python 3",
   "language": "python",
   "name": "python3"
  },
  "language_info": {
   "codemirror_mode": {
    "name": "ipython",
    "version": 3
   },
   "file_extension": ".py",
   "mimetype": "text/x-python",
   "name": "python",
   "nbconvert_exporter": "python",
   "pygments_lexer": "ipython3",
   "version": "3.10.9"
  },
  "orig_nbformat": 4
 },
 "nbformat": 4,
 "nbformat_minor": 2
}
