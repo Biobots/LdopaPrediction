{
 "cells": [
  {
   "cell_type": "code",
   "execution_count": 1,
   "metadata": {},
   "outputs": [],
   "source": [
    "from process.preproc_clinic import writeClinic\n",
    "from process.preproc_img import imgRedir, mvRaw, preprocFSL, preprocCAT12\n",
    "from process.preproc_combine import genHCData, combinePatData\n",
    "from src.feature.base import genROI\n",
    "from src.feature.texture import genTextureFeature, dropByCorrelation\n",
    "from src.utils.data import getPandas, getConfig, writeConfig\n",
    "from src.model.stats import stats_analyze\n",
    "import os\n",
    "import numpy as np\n",
    "import pandas as pd"
   ]
  },
  {
   "cell_type": "code",
   "execution_count": 2,
   "metadata": {},
   "outputs": [
    {
     "data": {
      "text/plain": [
       "'/home/biobot/disk/ldopa'"
      ]
     },
     "execution_count": 2,
     "metadata": {},
     "output_type": "execute_result"
    }
   ],
   "source": [
    "# Root directory as working directory\n",
    "os.chdir('..')\n",
    "os.getcwd()"
   ]
  },
  {
   "attachments": {},
   "cell_type": "markdown",
   "metadata": {},
   "source": [
    "## Preprocessing & Statistical Analysis"
   ]
  },
  {
   "cell_type": "code",
   "execution_count": null,
   "metadata": {},
   "outputs": [],
   "source": [
    "# Get Image Data\n",
    "imgRedir()\n",
    "# Get Clinical Data\n",
    "writeClinic()\n",
    "# Combine Data & Generate HC Data\n",
    "combinePatData()\n",
    "genHCData()\n",
    "# Generate Subject Directory & Move Raw Image Data\n",
    "mvRaw(getPandas('img_raw'))\n",
    "# Now all raw image data and clinical data are set up"
   ]
  },
  {
   "cell_type": "code",
   "execution_count": null,
   "metadata": {},
   "outputs": [],
   "source": [
    "# Image Preprocessing\n",
    "# For Patient Data:\n",
    "preprocFSL('pat_data')\n",
    "preprocCAT12('pat_data')\n",
    "# For HC Data:\n",
    "preprocFSL('hc_data')\n",
    "preprocCAT12('hc_data')\n",
    "\n",
    "# Time Consuming!!!\n",
    "# All volume data should be saved automatically"
   ]
  },
  {
   "cell_type": "code",
   "execution_count": 13,
   "metadata": {},
   "outputs": [],
   "source": [
    "# Dataset Split\n",
    "# One patient may have multiple images, so we need to split the dataset by patient\n",
    "from sklearn.model_selection import GroupShuffleSplit\n",
    "\n",
    "data = getPandas('pat_data')\n",
    "data_conf = getConfig('data')\n",
    "\n",
    "pat = data.sample(frac=1, random_state=0).reset_index(drop=False).drop_duplicates(subset=['PATNO', 'EVENT_ID']).reset_index(drop=True)\n",
    "\n",
    "splitter = GroupShuffleSplit(n_splits=1, test_size=0.2, random_state=1)\n",
    "split = splitter.split(pat, groups=pat['PATNO'])\n",
    "train_inds, test_inds = next(split)\n",
    "train_inds = pat.iloc[train_inds]['index'].values\n",
    "test_inds = pat.iloc[test_inds]['index'].values"
   ]
  },
  {
   "cell_type": "code",
   "execution_count": 8,
   "metadata": {},
   "outputs": [],
   "source": [
    "ratio = len(data[data['CAT_MDS']==1]) / len(data)\n",
    "test_size = int(len(data) * 0.18)\n",
    "unique_rec = data[~data.duplicated(subset=['PATNO'], keep=False)]\n",
    "unique_pos = unique_rec[unique_rec['CAT_MDS']==1].reset_index(drop=False)\n",
    "unique_neg = unique_rec[unique_rec['CAT_MDS']==0].reset_index(drop=False)\n",
    "test_pos_inds = unique_pos.sample(n=int(test_size * ratio), random_state=0)['index'].values\n",
    "test_neg_inds = unique_neg.sample(n=test_size-int(test_size * ratio), random_state=0)['index'].values\n",
    "test_inds = np.concatenate([test_pos_inds, test_neg_inds])\n",
    "train_inds = np.setdiff1d(data.index.values, test_inds)"
   ]
  },
  {
   "cell_type": "code",
   "execution_count": 14,
   "metadata": {},
   "outputs": [
    {
     "name": "stdout",
     "output_type": "stream",
     "text": [
      "SEX chi2 p: 0.9060069399226178\n",
      "CAT_MDS chi2 p: 0.27800152208237083\n",
      "AGE Normaltest p_train: [0.06522379], p_test: [0.80105024]\n",
      "AGE t-test p: Ttest_indResult(statistic=array([1.24480961]), pvalue=array([0.21479351]))\n",
      "NUPDR3OF Normaltest p_train: [0.027186], p_test: [0.6951501]\n",
      "NUPDR3OF ranksums p: RanksumsResult(statistic=array([-1.47081735]), pvalue=array([0.14134052]))\n",
      "LEDD Normaltest p_train: [8.66247582e-10], p_test: [0.00554728]\n",
      "LEDD ranksums p: RanksumsResult(statistic=array([-1.64758224]), pvalue=array([0.09943843]))\n",
      "DURATION Normaltest p_train: [0.1202715], p_test: [0.19042587]\n",
      "DURATION t-test p: Ttest_indResult(statistic=array([-1.18909099]), pvalue=array([0.23594449]))\n",
      "\n"
     ]
    }
   ],
   "source": [
    "# Data Analysis\n",
    "group = data_conf['data_group']\n",
    "x = data[group['demo'] + group['clinic'] + ['PATNO']]\n",
    "y = data[['CAT_MDS']]\n",
    "x_clinic_train = x.iloc[train_inds].reset_index(drop=True)\n",
    "x_clinic_test = x.iloc[test_inds].reset_index(drop=True)\n",
    "y_train = y.iloc[train_inds].reset_index(drop=True)\n",
    "y_test = y.iloc[test_inds].reset_index(drop=True)\n",
    "stats_analyze(x_clinic_train, x_clinic_test, y_train, y_test, data_conf, print)"
   ]
  },
  {
   "cell_type": "code",
   "execution_count": 15,
   "metadata": {},
   "outputs": [
    {
     "name": "stdout",
     "output_type": "stream",
     "text": [
      "Number of CAT_MDS = 0 in train set: 67\n",
      "Number of CAT_MDS = 0 in test set: 14\n",
      "Number of CAT_MDS = 1 in train set: 78\n",
      "Number of CAT_MDS = 1 in test set: 26\n",
      "Ratio of CAT_MDS = 0 in train set: 0.46206896551724136\n",
      "Ratio of CAT_MDS = 0 in test set: 0.35\n"
     ]
    }
   ],
   "source": [
    "print('Number of CAT_MDS = 0 in train set: {}'.format(y_train['CAT_MDS'].value_counts()[0]))\n",
    "print('Number of CAT_MDS = 0 in test set: {}'.format(y_test['CAT_MDS'].value_counts()[0]))\n",
    "print('Number of CAT_MDS = 1 in train set: {}'.format(y_train['CAT_MDS'].value_counts()[1]))\n",
    "print('Number of CAT_MDS = 1 in test set: {}'.format(y_test['CAT_MDS'].value_counts()[1]))\n",
    "print('Ratio of CAT_MDS = 0 in train set: {}'.format(y_train['CAT_MDS'].value_counts()[0] / len(y_train)))\n",
    "print('Ratio of CAT_MDS = 0 in test set: {}'.format(y_test['CAT_MDS'].value_counts()[0] / len(y_test)))"
   ]
  },
  {
   "cell_type": "code",
   "execution_count": 16,
   "metadata": {},
   "outputs": [],
   "source": [
    "# Save train/test indices to data config\n",
    "data_conf['indices'] = {\n",
    "    'pat': {}\n",
    "}\n",
    "data_conf['indices']['pat'] = {\n",
    "    'train': train_inds.tolist(),\n",
    "    'test': test_inds.tolist()\n",
    "}\n",
    "writeConfig('data', data_conf)"
   ]
  },
  {
   "attachments": {},
   "cell_type": "markdown",
   "metadata": {},
   "source": [
    "## Feature Extraction"
   ]
  },
  {
   "cell_type": "code",
   "execution_count": null,
   "metadata": {},
   "outputs": [],
   "source": [
    "## Texture Features\n",
    "# Generate ROI\n",
    "genROI()\n",
    "# Generate Texture Features\n",
    "genTextureFeature('pat_data', 'ANTs_Reg')"
   ]
  },
  {
   "cell_type": "code",
   "execution_count": 19,
   "metadata": {},
   "outputs": [],
   "source": [
    "data = getPandas('pat_data')"
   ]
  },
  {
   "cell_type": "code",
   "execution_count": 21,
   "metadata": {},
   "outputs": [],
   "source": [
    "data['ANTs_Reg'] = data['IMG_ROOT'] + os.sep + 'fsl' + os.sep + 'reg.nii.gz'\n",
    "data['FSL_GM'] = data['IMG_ROOT'] + os.sep + 'fsl' + os.sep + 'reg_gm.nii'\n",
    "data['FSL_WM'] = data['IMG_ROOT'] + os.sep + 'fsl' + os.sep + 'reg_wm.nii'\n",
    "data['FSL_CSF'] = data['IMG_ROOT'] + os.sep + 'fsl' + os.sep + 'reg_csf.nii'\n",
    "data['FSL_SGM'] = data['IMG_ROOT'] + os.sep + 'fsl' + os.sep + 'sreg_gm_masked.nii'\n",
    "data['CAT12_GM'] = data['IMG_ROOT'] + os.sep + 'cat12' + os.sep + 'mri' + os.sep + 'mwp1raw.nii'\n",
    "data['CAT12_SGM'] = data['IMG_ROOT'] + os.sep + 'cat12' + os.sep + 'mri' + os.sep + 'smwp1raw_masked.nii'\n",
    "data['CAT12_WM'] = data['IMG_ROOT'] + os.sep + 'cat12' + os.sep + 'mri' + os.sep + 'mwp2raw.nii'\n",
    "data['CAT12_CSF'] = data['IMG_ROOT'] + os.sep + 'cat12' + os.sep + 'mri' + os.sep + 'mwp3raw.nii'\n",
    "from xml.dom import minidom\n",
    "report_list = list(data['IMG_ROOT'] + os.sep + 'cat12' + os.sep + 'report' + os.sep + 'cat_raw.xml')\n",
    "vol_list = []\n",
    "for report in report_list:\n",
    "    root = minidom.parse(report).documentElement\n",
    "    tiv_str = root.getElementsByTagName('subjectmeasures')[1].getElementsByTagName('vol_TIV')[0].childNodes[0].data\n",
    "    vol_str = root.getElementsByTagName('subjectmeasures')[1].getElementsByTagName('vol_abs_CGW')[0].childNodes[0].data\n",
    "    tiv = float(tiv_str)\n",
    "    gm = float(vol_str.split(' ')[1])\n",
    "    wm = float(vol_str.split(' ')[2])\n",
    "    vol_list.append({'TIV': tiv, 'GM_VOL': gm, 'WM_VOL': wm})\n",
    "vol_list = pd.DataFrame(vol_list)\n",
    "data = pd.concat([data, vol_list], axis=1)"
   ]
  },
  {
   "cell_type": "code",
   "execution_count": 23,
   "metadata": {},
   "outputs": [],
   "source": [
    "from src.utils.data import writePandas\n",
    "writePandas('pat_data', data)"
   ]
  },
  {
   "cell_type": "code",
   "execution_count": 25,
   "metadata": {},
   "outputs": [
    {
     "name": "stdout",
     "output_type": "stream",
     "text": [
      "lRN\n",
      "lSN\n",
      "lSTN\n",
      "lCAU\n",
      "lPUT\n",
      "lGPe\n",
      "lGPi\n",
      "lTHA\n",
      "rRN\n",
      "rSN\n",
      "rSTN\n",
      "rCAU\n",
      "rPUT\n",
      "rGPe\n",
      "rGPi\n",
      "rTHA\n"
     ]
    },
    {
     "data": {
      "text/plain": [
       "<Figure size 640x480 with 0 Axes>"
      ]
     },
     "metadata": {},
     "output_type": "display_data"
    }
   ],
   "source": [
    "dropByCorrelation('pat_data', 'pat_ANTs_Reg_radiomic', 'CAT_MDS', 0.8)"
   ]
  }
 ],
 "metadata": {
  "kernelspec": {
   "display_name": "Python 3",
   "language": "python",
   "name": "python3"
  },
  "language_info": {
   "codemirror_mode": {
    "name": "ipython",
    "version": 3
   },
   "file_extension": ".py",
   "mimetype": "text/x-python",
   "name": "python",
   "nbconvert_exporter": "python",
   "pygments_lexer": "ipython3",
   "version": "3.10.9"
  },
  "orig_nbformat": 4
 },
 "nbformat": 4,
 "nbformat_minor": 2
}
