{
 "cells": [
  {
   "cell_type": "code",
   "execution_count": 1,
   "metadata": {},
   "outputs": [],
   "source": [
    "from src.model.pipeline import run\n",
    "import os"
   ]
  },
  {
   "cell_type": "code",
   "execution_count": 2,
   "metadata": {},
   "outputs": [
    {
     "data": {
      "text/plain": [
       "'/home/biobot/disk/ldopa'"
      ]
     },
     "execution_count": 2,
     "metadata": {},
     "output_type": "execute_result"
    }
   ],
   "source": [
    "# Root directory as working directory\n",
    "os.chdir('..')\n",
    "os.getcwd()"
   ]
  },
  {
   "attachments": {},
   "cell_type": "markdown",
   "metadata": {},
   "source": [
    "Baseline:\n",
    "\n",
    "SVM: 0.765 0.710\n",
    "\n",
    "XgBoost: 0.966 0.746\n",
    "\n",
    "AUC Table:\n",
    "| Model | Baseline | Texture |\n",
    "| --- | --- | --- |\n",
    "| SVM | 0.710 |  |\n",
    "| XgBoost | 0.746 |  |"
   ]
  },
  {
   "cell_type": "code",
   "execution_count": 3,
   "metadata": {},
   "outputs": [
    {
     "name": "stdout",
     "output_type": "stream",
     "text": [
      "Task: classification/2\n",
      "\n",
      "Feature: ['roi_volume']\n",
      "\n",
      "SEX chi2 p: 0.5414803876006902\n",
      "CAT chi2 p: 0.9510706628888684\n",
      "AGE Normaltest p_train: [0.07505303], p_test: [0.48389882]\n",
      "AGE t-test p: Ttest_indResult(statistic=array([1.54953415]), pvalue=array([0.12271054]))\n",
      "NUPDR3OF Normaltest p_train: [0.01407325], p_test: [0.53859285]\n",
      "NUPDR3OF ranksums p: RanksumsResult(statistic=array([0.53408144]), pvalue=array([0.59328519]))\n",
      "LEDD Normaltest p_train: [2.56158925e-12], p_test: [0.1798008]\n",
      "LEDD ranksums p: RanksumsResult(statistic=array([0.51837316]), pvalue=array([0.60419794]))\n",
      "DURATION Normaltest p_train: [0.00553476], p_test: [0.13860719]\n",
      "DURATION ranksums p: RanksumsResult(statistic=array([-0.45554005]), pvalue=array([0.64872076]))\n",
      "\n"
     ]
    },
    {
     "name": "stderr",
     "output_type": "stream",
     "text": [
      "100%|██████████| 50/50 [00:01<00:00, 34.82it/s]\n"
     ]
    },
    {
     "name": "stdout",
     "output_type": "stream",
     "text": [
      "mRMR Selected features: ['cobra_wm_rMamBody', 'cobra_gm_rCA2_3', 'cobra_gm_rInfPostCerebLVIIIA', 'cobra_wm_rAmy', 'cobra_gm_lFor', 'cobra_gm_rSupPostCerebCII', 'cobra_gm_rMamBody', 'cobra_wm_lCA2_3', 'cobra_gm_lInfPostCerebLVIIIB', 'cobra_wm_rInfPostCerebLX', 'cobra_gm_lAntCerebLI_II', 'cobra_gm_rAntCerebLIII', 'cobra_wm_rSub', 'cobra_wm_lFimbra', 'cobra_gm_lInfPostCerebLVIIIA', 'cobra_gm_lTha', 'cobra_wm_lSupPostCerebLVI', 'cobra_wm_lSupPostCerebCII', 'cobra_gm_rSupPostCerebLVIIB', 'cobra_wm_rInfPostCerebLVIIIB', 'cobra_gm_rInfPostCerebLVIIIB', 'cobra_wm_rCA2_3', 'cobra_wm_lSupPostCerebCI', 'cobra_wm_lAlveus', 'cobra_gm_lAntCerebLIV', 'cobra_wm_rSupPostCerebLVI', 'cobra_wm_lStriatum', 'cobra_gm_rAlveus', 'cobra_wm_rAntCerebLIII', 'cobra_gm_lMamBody', 'cobra_gm_lAntCerebLIII', 'cobra_wm_rInfPostCerebLVIIIA', 'cobra_gm_rTha', 'cobra_wm_lAntCerebLIV', 'cobra_wm_rSupPostCerebCI', 'cobra_gm_rStriatum', 'cobra_wm_lAntCerebLI_II', 'cobra_gm_lSupPostCerebCII', 'cobra_wm_rStriatum', 'cobra_gm_rFimbra', 'cobra_gm_lStriatum', 'cobra_wm_rSupPostCerebCII', 'cobra_gm_lCA2_3', 'cobra_wm_lFor', 'cobra_gm_lGloPal', 'cobra_wm_lCA4', 'cobra_gm_lFimbra', 'cobra_wm_rAntCerebLI_II', 'cobra_gm_rSub', 'cobra_wm_rStratum']\n",
      "\n",
      "LASSO Selected alpha: 0.01436392757407548\n",
      "\n",
      "LASSO Selected features: ['cobra_wm_rMamBody' 'cobra_gm_rInfPostCerebLVIIIA']\n",
      "\n",
      "Demo + Clinic:\n",
      "\n",
      "Model: svc\n",
      "\n",
      "AUC train 0.7654370489174017\n",
      "\n",
      "AUC test 0.7102272727272727\n",
      "\n",
      "Accuracy train 0.7109826589595376\n",
      "\n",
      "Accuracy test 0.6739130434782609\n",
      "\n",
      "Model: xgboost\n",
      "\n",
      "AUC train 0.9662523389468057\n",
      "\n",
      "AUC test 0.7462121212121212\n",
      "\n",
      "Accuracy train 0.9017341040462428\n",
      "\n",
      "Accuracy test 0.6739130434782609\n",
      "\n",
      "Model: mlp\n",
      "\n",
      "AUC train 0.7110398289227479\n",
      "\n",
      "AUC test 0.7784090909090909\n",
      "\n",
      "Accuracy train 0.5028901734104047\n",
      "\n",
      "Accuracy test 0.5217391304347826\n",
      "\n",
      "Demo + Clinic + Img:\n",
      "\n",
      "Model: svc\n",
      "\n",
      "AUC train 0.2761293771718792\n",
      "\n",
      "AUC test 0.36553030303030304\n",
      "\n",
      "Accuracy train 0.5028901734104047\n",
      "\n",
      "Accuracy test 0.5217391304347826\n",
      "\n",
      "Model: xgboost\n",
      "\n",
      "AUC train 0.8251136059877038\n",
      "\n",
      "AUC test 0.740530303030303\n",
      "\n",
      "Accuracy train 0.7341040462427746\n",
      "\n",
      "Accuracy test 0.6956521739130435\n",
      "\n",
      "Model: mlp\n",
      "\n",
      "AUC train 0.736300454423951\n",
      "\n",
      "AUC test 0.7064393939393939\n",
      "\n",
      "Accuracy train 0.6647398843930635\n",
      "\n",
      "Accuracy test 0.6739130434782609\n",
      "\n"
     ]
    },
    {
     "name": "stderr",
     "output_type": "stream",
     "text": [
      "100%|██████████| 50/50 [00:01<00:00, 37.36it/s]\n"
     ]
    },
    {
     "name": "stdout",
     "output_type": "stream",
     "text": [
      "mRMR Selected features: ['cobra_wm_rMamBody', 'cobra_gm_rCA2_3', 'cobra_gm_rInfPostCerebLVIIIA', 'cobra_wm_rAmy', 'cobra_gm_lFor', 'cobra_gm_rSupPostCerebCII', 'cobra_gm_rMamBody', 'cobra_wm_lCA2_3', 'cobra_gm_lInfPostCerebLVIIIB', 'cobra_wm_rInfPostCerebLX', 'cobra_gm_lAntCerebLI_II', 'cobra_gm_rAntCerebLIII', 'cobra_wm_rSub', 'cobra_wm_lFimbra', 'cobra_gm_lInfPostCerebLVIIIA', 'cobra_gm_lTha', 'cobra_wm_lSupPostCerebLVI', 'cobra_wm_lSupPostCerebCII', 'cobra_gm_rSupPostCerebLVIIB', 'cobra_wm_rInfPostCerebLVIIIB', 'cobra_gm_rInfPostCerebLVIIIB', 'cobra_wm_rCA2_3', 'cobra_wm_lSupPostCerebCI', 'cobra_wm_lAlveus', 'cobra_gm_lAntCerebLIV', 'cobra_wm_rSupPostCerebLVI', 'cobra_wm_lStriatum', 'cobra_gm_rAlveus', 'cobra_wm_rAntCerebLIII', 'cobra_gm_lMamBody', 'cobra_gm_lAntCerebLIII', 'cobra_wm_rInfPostCerebLVIIIA', 'cobra_gm_rTha', 'cobra_wm_lAntCerebLIV', 'cobra_wm_rSupPostCerebCI', 'cobra_gm_rStriatum', 'cobra_wm_lAntCerebLI_II', 'cobra_gm_lSupPostCerebCII', 'cobra_wm_rStriatum', 'cobra_gm_rFimbra', 'cobra_gm_lStriatum', 'cobra_wm_rSupPostCerebCII', 'cobra_gm_lCA2_3', 'cobra_wm_lFor', 'cobra_gm_lGloPal', 'cobra_wm_lCA4', 'cobra_gm_lFimbra', 'cobra_wm_rAntCerebLI_II', 'cobra_gm_rSub', 'cobra_wm_rStratum']\n",
      "\n",
      "LASSO Selected alpha: 0.01436392757407548\n",
      "\n",
      "LASSO Selected features: ['cobra_wm_rMamBody' 'cobra_gm_rInfPostCerebLVIIIA']\n",
      "\n",
      "Demo + Clinic:\n",
      "\n",
      "Model: svc\n",
      "\n",
      "AUC train 0.7380379577653033\n",
      "\n",
      "AUC test 0.7291666666666666\n",
      "\n",
      "Accuracy train 0.7052023121387283\n",
      "\n",
      "Accuracy test 0.6521739130434783\n",
      "\n"
     ]
    },
    {
     "ename": "KeyboardInterrupt",
     "evalue": "",
     "output_type": "error",
     "traceback": [
      "\u001b[0;31m---------------------------------------------------------------------------\u001b[0m",
      "\u001b[0;31mKeyboardInterrupt\u001b[0m                         Traceback (most recent call last)",
      "Cell \u001b[0;32mIn[3], line 1\u001b[0m\n\u001b[0;32m----> 1\u001b[0m b1, i1 \u001b[39m=\u001b[39m run(\u001b[39m'\u001b[39;49m\u001b[39mpat_data\u001b[39;49m\u001b[39m'\u001b[39;49m, [\u001b[39m'\u001b[39;49m\u001b[39mclassification/2\u001b[39;49m\u001b[39m'\u001b[39;49m], [[\u001b[39m'\u001b[39;49m\u001b[39mroi_volume\u001b[39;49m\u001b[39m'\u001b[39;49m]], \u001b[39mprint\u001b[39;49m, plot_flag\u001b[39m=\u001b[39;49m\u001b[39mFalse\u001b[39;49;00m, feature_selection\u001b[39m=\u001b[39;49m\u001b[39mTrue\u001b[39;49;00m, cal_baselines\u001b[39m=\u001b[39;49m\u001b[39mTrue\u001b[39;49;00m)\n",
      "File \u001b[0;32m~/disk/ldopa/code/src/model/pipeline.py:200\u001b[0m, in \u001b[0;36mrun\u001b[0;34m(dataname, TASKS, FEATURES, log_func, plot_flag, feature_selection, cal_baselines)\u001b[0m\n\u001b[1;32m    189\u001b[0m     rst[\u001b[39m'\u001b[39m\u001b[39mimg\u001b[39m\u001b[39m'\u001b[39m][name] \u001b[39m=\u001b[39m []\n\u001b[1;32m    191\u001b[0m cv \u001b[39m=\u001b[39m GridSearchCV(\n\u001b[1;32m    192\u001b[0m     model(),\n\u001b[1;32m    193\u001b[0m     parameters,\n\u001b[0;32m   (...)\u001b[0m\n\u001b[1;32m    197\u001b[0m     scoring\u001b[39m=\u001b[39mtask[\u001b[39m'\u001b[39m\u001b[39mgridsearch_params\u001b[39m\u001b[39m'\u001b[39m][\u001b[39m'\u001b[39m\u001b[39mscoring\u001b[39m\u001b[39m'\u001b[39m]\n\u001b[1;32m    198\u001b[0m )\n\u001b[0;32m--> 200\u001b[0m cv\u001b[39m.\u001b[39;49mfit(x_train, y_train\u001b[39m.\u001b[39;49mvalues\u001b[39m.\u001b[39;49mravel())\n\u001b[1;32m    201\u001b[0m \u001b[39m#log_func('Best params: {}\\n'.format(cv.best_params_))\u001b[39;00m\n\u001b[1;32m    202\u001b[0m model_instance \u001b[39m=\u001b[39m model(\u001b[39m*\u001b[39m\u001b[39m*\u001b[39mcv\u001b[39m.\u001b[39mbest_params_)\n",
      "File \u001b[0;32m~/.pyenv/versions/3.10.9/lib/python3.10/site-packages/sklearn/model_selection/_search.py:874\u001b[0m, in \u001b[0;36mBaseSearchCV.fit\u001b[0;34m(self, X, y, groups, **fit_params)\u001b[0m\n\u001b[1;32m    868\u001b[0m     results \u001b[39m=\u001b[39m \u001b[39mself\u001b[39m\u001b[39m.\u001b[39m_format_results(\n\u001b[1;32m    869\u001b[0m         all_candidate_params, n_splits, all_out, all_more_results\n\u001b[1;32m    870\u001b[0m     )\n\u001b[1;32m    872\u001b[0m     \u001b[39mreturn\u001b[39;00m results\n\u001b[0;32m--> 874\u001b[0m \u001b[39mself\u001b[39;49m\u001b[39m.\u001b[39;49m_run_search(evaluate_candidates)\n\u001b[1;32m    876\u001b[0m \u001b[39m# multimetric is determined here because in the case of a callable\u001b[39;00m\n\u001b[1;32m    877\u001b[0m \u001b[39m# self.scoring the return type is only known after calling\u001b[39;00m\n\u001b[1;32m    878\u001b[0m first_test_score \u001b[39m=\u001b[39m all_out[\u001b[39m0\u001b[39m][\u001b[39m\"\u001b[39m\u001b[39mtest_scores\u001b[39m\u001b[39m\"\u001b[39m]\n",
      "File \u001b[0;32m~/.pyenv/versions/3.10.9/lib/python3.10/site-packages/sklearn/model_selection/_search.py:1388\u001b[0m, in \u001b[0;36mGridSearchCV._run_search\u001b[0;34m(self, evaluate_candidates)\u001b[0m\n\u001b[1;32m   1386\u001b[0m \u001b[39mdef\u001b[39;00m \u001b[39m_run_search\u001b[39m(\u001b[39mself\u001b[39m, evaluate_candidates):\n\u001b[1;32m   1387\u001b[0m \u001b[39m    \u001b[39m\u001b[39m\"\"\"Search all candidates in param_grid\"\"\"\u001b[39;00m\n\u001b[0;32m-> 1388\u001b[0m     evaluate_candidates(ParameterGrid(\u001b[39mself\u001b[39;49m\u001b[39m.\u001b[39;49mparam_grid))\n",
      "File \u001b[0;32m~/.pyenv/versions/3.10.9/lib/python3.10/site-packages/sklearn/model_selection/_search.py:821\u001b[0m, in \u001b[0;36mBaseSearchCV.fit.<locals>.evaluate_candidates\u001b[0;34m(candidate_params, cv, more_results)\u001b[0m\n\u001b[1;32m    813\u001b[0m \u001b[39mif\u001b[39;00m \u001b[39mself\u001b[39m\u001b[39m.\u001b[39mverbose \u001b[39m>\u001b[39m \u001b[39m0\u001b[39m:\n\u001b[1;32m    814\u001b[0m     \u001b[39mprint\u001b[39m(\n\u001b[1;32m    815\u001b[0m         \u001b[39m\"\u001b[39m\u001b[39mFitting \u001b[39m\u001b[39m{0}\u001b[39;00m\u001b[39m folds for each of \u001b[39m\u001b[39m{1}\u001b[39;00m\u001b[39m candidates,\u001b[39m\u001b[39m\"\u001b[39m\n\u001b[1;32m    816\u001b[0m         \u001b[39m\"\u001b[39m\u001b[39m totalling \u001b[39m\u001b[39m{2}\u001b[39;00m\u001b[39m fits\u001b[39m\u001b[39m\"\u001b[39m\u001b[39m.\u001b[39mformat(\n\u001b[1;32m    817\u001b[0m             n_splits, n_candidates, n_candidates \u001b[39m*\u001b[39m n_splits\n\u001b[1;32m    818\u001b[0m         )\n\u001b[1;32m    819\u001b[0m     )\n\u001b[0;32m--> 821\u001b[0m out \u001b[39m=\u001b[39m parallel(\n\u001b[1;32m    822\u001b[0m     delayed(_fit_and_score)(\n\u001b[1;32m    823\u001b[0m         clone(base_estimator),\n\u001b[1;32m    824\u001b[0m         X,\n\u001b[1;32m    825\u001b[0m         y,\n\u001b[1;32m    826\u001b[0m         train\u001b[39m=\u001b[39;49mtrain,\n\u001b[1;32m    827\u001b[0m         test\u001b[39m=\u001b[39;49mtest,\n\u001b[1;32m    828\u001b[0m         parameters\u001b[39m=\u001b[39;49mparameters,\n\u001b[1;32m    829\u001b[0m         split_progress\u001b[39m=\u001b[39;49m(split_idx, n_splits),\n\u001b[1;32m    830\u001b[0m         candidate_progress\u001b[39m=\u001b[39;49m(cand_idx, n_candidates),\n\u001b[1;32m    831\u001b[0m         \u001b[39m*\u001b[39;49m\u001b[39m*\u001b[39;49mfit_and_score_kwargs,\n\u001b[1;32m    832\u001b[0m     )\n\u001b[1;32m    833\u001b[0m     \u001b[39mfor\u001b[39;49;00m (cand_idx, parameters), (split_idx, (train, test)) \u001b[39min\u001b[39;49;00m product(\n\u001b[1;32m    834\u001b[0m         \u001b[39menumerate\u001b[39;49m(candidate_params), \u001b[39menumerate\u001b[39;49m(cv\u001b[39m.\u001b[39;49msplit(X, y, groups))\n\u001b[1;32m    835\u001b[0m     )\n\u001b[1;32m    836\u001b[0m )\n\u001b[1;32m    838\u001b[0m \u001b[39mif\u001b[39;00m \u001b[39mlen\u001b[39m(out) \u001b[39m<\u001b[39m \u001b[39m1\u001b[39m:\n\u001b[1;32m    839\u001b[0m     \u001b[39mraise\u001b[39;00m \u001b[39mValueError\u001b[39;00m(\n\u001b[1;32m    840\u001b[0m         \u001b[39m\"\u001b[39m\u001b[39mNo fits were performed. \u001b[39m\u001b[39m\"\u001b[39m\n\u001b[1;32m    841\u001b[0m         \u001b[39m\"\u001b[39m\u001b[39mWas the CV iterator empty? \u001b[39m\u001b[39m\"\u001b[39m\n\u001b[1;32m    842\u001b[0m         \u001b[39m\"\u001b[39m\u001b[39mWere there no candidates?\u001b[39m\u001b[39m\"\u001b[39m\n\u001b[1;32m    843\u001b[0m     )\n",
      "File \u001b[0;32m~/.pyenv/versions/3.10.9/lib/python3.10/site-packages/sklearn/utils/parallel.py:63\u001b[0m, in \u001b[0;36mParallel.__call__\u001b[0;34m(self, iterable)\u001b[0m\n\u001b[1;32m     58\u001b[0m config \u001b[39m=\u001b[39m get_config()\n\u001b[1;32m     59\u001b[0m iterable_with_config \u001b[39m=\u001b[39m (\n\u001b[1;32m     60\u001b[0m     (_with_config(delayed_func, config), args, kwargs)\n\u001b[1;32m     61\u001b[0m     \u001b[39mfor\u001b[39;00m delayed_func, args, kwargs \u001b[39min\u001b[39;00m iterable\n\u001b[1;32m     62\u001b[0m )\n\u001b[0;32m---> 63\u001b[0m \u001b[39mreturn\u001b[39;00m \u001b[39msuper\u001b[39;49m()\u001b[39m.\u001b[39;49m\u001b[39m__call__\u001b[39;49m(iterable_with_config)\n",
      "File \u001b[0;32m~/.pyenv/versions/3.10.9/lib/python3.10/site-packages/joblib/parallel.py:1098\u001b[0m, in \u001b[0;36mParallel.__call__\u001b[0;34m(self, iterable)\u001b[0m\n\u001b[1;32m   1095\u001b[0m     \u001b[39mself\u001b[39m\u001b[39m.\u001b[39m_iterating \u001b[39m=\u001b[39m \u001b[39mFalse\u001b[39;00m\n\u001b[1;32m   1097\u001b[0m \u001b[39mwith\u001b[39;00m \u001b[39mself\u001b[39m\u001b[39m.\u001b[39m_backend\u001b[39m.\u001b[39mretrieval_context():\n\u001b[0;32m-> 1098\u001b[0m     \u001b[39mself\u001b[39;49m\u001b[39m.\u001b[39;49mretrieve()\n\u001b[1;32m   1099\u001b[0m \u001b[39m# Make sure that we get a last message telling us we are done\u001b[39;00m\n\u001b[1;32m   1100\u001b[0m elapsed_time \u001b[39m=\u001b[39m time\u001b[39m.\u001b[39mtime() \u001b[39m-\u001b[39m \u001b[39mself\u001b[39m\u001b[39m.\u001b[39m_start_time\n",
      "File \u001b[0;32m~/.pyenv/versions/3.10.9/lib/python3.10/site-packages/joblib/parallel.py:975\u001b[0m, in \u001b[0;36mParallel.retrieve\u001b[0;34m(self)\u001b[0m\n\u001b[1;32m    973\u001b[0m \u001b[39mtry\u001b[39;00m:\n\u001b[1;32m    974\u001b[0m     \u001b[39mif\u001b[39;00m \u001b[39mgetattr\u001b[39m(\u001b[39mself\u001b[39m\u001b[39m.\u001b[39m_backend, \u001b[39m'\u001b[39m\u001b[39msupports_timeout\u001b[39m\u001b[39m'\u001b[39m, \u001b[39mFalse\u001b[39;00m):\n\u001b[0;32m--> 975\u001b[0m         \u001b[39mself\u001b[39m\u001b[39m.\u001b[39m_output\u001b[39m.\u001b[39mextend(job\u001b[39m.\u001b[39;49mget(timeout\u001b[39m=\u001b[39;49m\u001b[39mself\u001b[39;49m\u001b[39m.\u001b[39;49mtimeout))\n\u001b[1;32m    976\u001b[0m     \u001b[39melse\u001b[39;00m:\n\u001b[1;32m    977\u001b[0m         \u001b[39mself\u001b[39m\u001b[39m.\u001b[39m_output\u001b[39m.\u001b[39mextend(job\u001b[39m.\u001b[39mget())\n",
      "File \u001b[0;32m~/.pyenv/versions/3.10.9/lib/python3.10/site-packages/joblib/_parallel_backends.py:567\u001b[0m, in \u001b[0;36mLokyBackend.wrap_future_result\u001b[0;34m(future, timeout)\u001b[0m\n\u001b[1;32m    564\u001b[0m \u001b[39m\u001b[39m\u001b[39m\"\"\"Wrapper for Future.result to implement the same behaviour as\u001b[39;00m\n\u001b[1;32m    565\u001b[0m \u001b[39mAsyncResults.get from multiprocessing.\"\"\"\u001b[39;00m\n\u001b[1;32m    566\u001b[0m \u001b[39mtry\u001b[39;00m:\n\u001b[0;32m--> 567\u001b[0m     \u001b[39mreturn\u001b[39;00m future\u001b[39m.\u001b[39;49mresult(timeout\u001b[39m=\u001b[39;49mtimeout)\n\u001b[1;32m    568\u001b[0m \u001b[39mexcept\u001b[39;00m CfTimeoutError \u001b[39mas\u001b[39;00m e:\n\u001b[1;32m    569\u001b[0m     \u001b[39mraise\u001b[39;00m \u001b[39mTimeoutError\u001b[39;00m \u001b[39mfrom\u001b[39;00m \u001b[39me\u001b[39;00m\n",
      "File \u001b[0;32m~/.pyenv/versions/3.10.9/lib/python3.10/concurrent/futures/_base.py:453\u001b[0m, in \u001b[0;36mFuture.result\u001b[0;34m(self, timeout)\u001b[0m\n\u001b[1;32m    450\u001b[0m \u001b[39melif\u001b[39;00m \u001b[39mself\u001b[39m\u001b[39m.\u001b[39m_state \u001b[39m==\u001b[39m FINISHED:\n\u001b[1;32m    451\u001b[0m     \u001b[39mreturn\u001b[39;00m \u001b[39mself\u001b[39m\u001b[39m.\u001b[39m__get_result()\n\u001b[0;32m--> 453\u001b[0m \u001b[39mself\u001b[39;49m\u001b[39m.\u001b[39;49m_condition\u001b[39m.\u001b[39;49mwait(timeout)\n\u001b[1;32m    455\u001b[0m \u001b[39mif\u001b[39;00m \u001b[39mself\u001b[39m\u001b[39m.\u001b[39m_state \u001b[39min\u001b[39;00m [CANCELLED, CANCELLED_AND_NOTIFIED]:\n\u001b[1;32m    456\u001b[0m     \u001b[39mraise\u001b[39;00m CancelledError()\n",
      "File \u001b[0;32m~/.pyenv/versions/3.10.9/lib/python3.10/threading.py:320\u001b[0m, in \u001b[0;36mCondition.wait\u001b[0;34m(self, timeout)\u001b[0m\n\u001b[1;32m    318\u001b[0m \u001b[39mtry\u001b[39;00m:    \u001b[39m# restore state no matter what (e.g., KeyboardInterrupt)\u001b[39;00m\n\u001b[1;32m    319\u001b[0m     \u001b[39mif\u001b[39;00m timeout \u001b[39mis\u001b[39;00m \u001b[39mNone\u001b[39;00m:\n\u001b[0;32m--> 320\u001b[0m         waiter\u001b[39m.\u001b[39;49macquire()\n\u001b[1;32m    321\u001b[0m         gotit \u001b[39m=\u001b[39m \u001b[39mTrue\u001b[39;00m\n\u001b[1;32m    322\u001b[0m     \u001b[39melse\u001b[39;00m:\n",
      "\u001b[0;31mKeyboardInterrupt\u001b[0m: "
     ]
    }
   ],
   "source": [
    "b1, i1 = run('pat_data', ['classification/2'], [['roi_volume']], print, plot_flag=False, feature_selection=True, cal_baselines=True)"
   ]
  }
 ],
 "metadata": {
  "kernelspec": {
   "display_name": "Python 3",
   "language": "python",
   "name": "python3"
  },
  "language_info": {
   "codemirror_mode": {
    "name": "ipython",
    "version": 3
   },
   "file_extension": ".py",
   "mimetype": "text/x-python",
   "name": "python",
   "nbconvert_exporter": "python",
   "pygments_lexer": "ipython3",
   "version": "3.10.9"
  },
  "orig_nbformat": 4
 },
 "nbformat": 4,
 "nbformat_minor": 2
}
