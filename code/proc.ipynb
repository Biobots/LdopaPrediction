{
 "cells": [
  {
   "cell_type": "code",
   "execution_count": 1,
   "metadata": {},
   "outputs": [],
   "source": [
    "from src.model.pipeline import run\n",
    "import os"
   ]
  },
  {
   "cell_type": "code",
   "execution_count": 2,
   "metadata": {},
   "outputs": [
    {
     "data": {
      "text/plain": [
       "'/home/biobot/disk/ldopa'"
      ]
     },
     "execution_count": 2,
     "metadata": {},
     "output_type": "execute_result"
    }
   ],
   "source": [
    "# Root directory as working directory\n",
    "os.chdir('..')\n",
    "os.getcwd()"
   ]
  },
  {
   "cell_type": "code",
   "execution_count": 4,
   "metadata": {},
   "outputs": [
    {
     "name": "stdout",
     "output_type": "stream",
     "text": [
      "Task: classification/2\n",
      "\n",
      "Feature: ['t1_radiomic', 'roi_volume']\n",
      "\n",
      "SEX chi2 p: 0.9060069399226178\n",
      "CAT_MDS chi2 p: 0.27800152208237083\n",
      "AGE Normaltest p_train: [0.06522379], p_test: [0.80105024]\n",
      "AGE t-test p: Ttest_indResult(statistic=array([1.24480961]), pvalue=array([0.21479351]))\n",
      "NUPDR3OF Normaltest p_train: [0.027186], p_test: [0.6951501]\n",
      "NUPDR3OF ranksums p: RanksumsResult(statistic=array([-1.47081735]), pvalue=array([0.14134052]))\n",
      "LEDD Normaltest p_train: [8.66247582e-10], p_test: [0.00554728]\n",
      "LEDD ranksums p: RanksumsResult(statistic=array([-1.64758224]), pvalue=array([0.09943843]))\n",
      "DURATION Normaltest p_train: [0.1202715], p_test: [0.19042587]\n",
      "DURATION t-test p: Ttest_indResult(statistic=array([-1.18909099]), pvalue=array([0.23594449]))\n",
      "\n"
     ]
    },
    {
     "name": "stderr",
     "output_type": "stream",
     "text": [
      "100%|██████████| 50/50 [00:08<00:00,  5.73it/s]\n"
     ]
    },
    {
     "name": "stdout",
     "output_type": "stream",
     "text": [
      "Selected features: ['cobra_gm_lAntCerebLI_II', 'rSN_original_firstorder_Maximum', 'cobra_wm_rAmy', 'neuromorphometrics_wm_Left PIns posterior insula', 'neuromorphometrics_csf_Left FO frontal operculum', 'suit_wm_Vermis CrusI', 'thalamus_gm_lVentral_Latero_Ventral', 'neuromorphometrics_wm_Right AOrG anterior orbital gyrus', 'hammers_csf_TL anterior temporal lobe lateral part L', 'rPUT_original_firstorder_Kurtosis', 'lTHA_original_glcm_ClusterShade', 'rSTN_original_glcm_ClusterShade', 'hammers_csf_nucleus accumbens L', 'cobra_wm_lAlveus', 'thalamic_nuclei_gm_lLateral_Geniculate', 'rRN_original_glcm_Correlation', 'hammers_wm_nucleus accumbens R', 'neuromorphometrics_gm_Right PO parietal operculum', 'hammers_csf_cerebellum L', 'cobra_wm_rSub', 'lSTN_original_glcm_Correlation', 'lSTN_original_firstorder_Maximum', 'hammers_csf_FL medial orbital gyrus L', 'cobra_wm_lCA4', 'hammers_wm_TL fusiform gyrus R', 'hammers_csf_TL superior temporal gyrus anterior part R', 'lSTN_original_glcm_ClusterShade', 'rRN_original_glcm_Idmn', 'rPUT_original_firstorder_90Percentile', 'neuromorphometrics_wm_Left Inf Lat Vent', 'suit_gm_Vermis CrusI', 'neuromorphometrics_csf_Left PHG parahippocampal gyrus', 'neuromorphometrics_wm_Left Ent entorhinal area', 'rRN_original_glcm_Imc2', 'hammers_wm_TL hippocampus L', 'hammers_csf_putamen L', 'rCAU_original_firstorder_Median', 'thalamic_nuclei_gm_rCentromedian', 'rRN_original_glcm_Idn', 'rGPe_original_glcm_Correlation', 'hammers_csf_TL anterior temporal lobe medial part R', 'neuromorphometrics_wm_Right TrIFG triangular part of the inferior frontal gyrus', 'rSN_original_glszm_LargeAreaLowGrayLevelEmphasis', 'hammers_csf_insula posterior short gyrus L', 'hammers_wm_FL pre-subgenual frontal cortex R', 'neuromorphometrics_csf_Right Calc calcarine cortex', 'rGPi_original_firstorder_Maximum', 'lpba40_wm_lHip', 'thalamus_gm_rVentral_Latero_Ventral', 'neuromorphometrics_wm_Right FuG fusiform gyrus']\n",
      "\n",
      "Selected alpha: 0.010527249567700497\n",
      "\n",
      "Selected features: ['cobra_gm_lAntCerebLI_II'\n",
      " 'neuromorphometrics_csf_Left FO frontal operculum' 'suit_wm_Vermis CrusI'\n",
      " 'neuromorphometrics_wm_Right AOrG anterior orbital gyrus'\n",
      " 'hammers_csf_TL anterior temporal lobe lateral part L'\n",
      " 'hammers_csf_nucleus accumbens L' 'cobra_wm_lAlveus'\n",
      " 'thalamic_nuclei_gm_lLateral_Geniculate' 'rRN_original_glcm_Correlation'\n",
      " 'neuromorphometrics_gm_Right PO parietal operculum'\n",
      " 'hammers_csf_cerebellum L' 'cobra_wm_rSub'\n",
      " 'lSTN_original_glcm_Correlation' 'suit_gm_Vermis CrusI'\n",
      " 'rGPe_original_glcm_Correlation']\n",
      "\n",
      "Selected features: ['cobra_gm_lAntCerebLI_II'\n",
      " 'neuromorphometrics_csf_Left FO frontal operculum' 'suit_wm_Vermis CrusI'\n",
      " 'neuromorphometrics_wm_Right AOrG anterior orbital gyrus'\n",
      " 'hammers_csf_TL anterior temporal lobe lateral part L'\n",
      " 'hammers_csf_nucleus accumbens L' 'cobra_wm_lAlveus'\n",
      " 'thalamic_nuclei_gm_lLateral_Geniculate' 'rRN_original_glcm_Correlation'\n",
      " 'neuromorphometrics_gm_Right PO parietal operculum'\n",
      " 'hammers_csf_cerebellum L' 'cobra_wm_rSub'\n",
      " 'lSTN_original_glcm_Correlation' 'suit_gm_Vermis CrusI'\n",
      " 'rGPe_original_glcm_Correlation']\n",
      "\n",
      "Demo + Clinic:\n",
      "\n",
      "Model: svc\n",
      "\n",
      "AUC train 0.6320321469575201 ci ConfidenceInterval(low=0.5344771719644202, high=0.7132129025150431)\n",
      "\n",
      "AUC test 0.6758241758241759 ci ConfidenceInterval(low=0.48653738750045866, high=0.8264000151038156)\n",
      "\n",
      "Model: xgboost\n",
      "\n",
      "AUC train 0.8349598163030998 ci ConfidenceInterval(low=0.7627746632469263, high=0.8947856888710003)\n",
      "\n",
      "AUC test 0.7197802197802198 ci ConfidenceInterval(low=0.5132486182565913, high=0.8681318681318682)\n",
      "\n",
      "Demo + Clinic + Img:\n",
      "\n",
      "Model: svc\n",
      "\n",
      "AUC train 0.869307309605817 ci ConfidenceInterval(low=0.8039253789350951, high=0.9171328339833673)\n",
      "\n",
      "AUC test 0.7335164835164836 ci ConfidenceInterval(low=0.5521273591888857, high=0.868303385223327)\n",
      "\n",
      "Model: xgboost\n",
      "\n",
      "AUC train 1.0 ci ConfidenceInterval(low=nan, high=nan)\n",
      "\n",
      "AUC test 0.7417582417582418 ci ConfidenceInterval(low=0.5396043759892925, high=0.8812914621087801)\n",
      "\n"
     ]
    }
   ],
   "source": [
    "run('pat_data', ['classification/2'], [['t1_radiomic', 'roi_volume']], print)"
   ]
  }
 ],
 "metadata": {
  "kernelspec": {
   "display_name": "Python 3",
   "language": "python",
   "name": "python3"
  },
  "language_info": {
   "codemirror_mode": {
    "name": "ipython",
    "version": 3
   },
   "file_extension": ".py",
   "mimetype": "text/x-python",
   "name": "python",
   "nbconvert_exporter": "python",
   "pygments_lexer": "ipython3",
   "version": "3.10.9"
  },
  "orig_nbformat": 4
 },
 "nbformat": 4,
 "nbformat_minor": 2
}
