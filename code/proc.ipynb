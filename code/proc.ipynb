{
 "cells": [
  {
   "cell_type": "code",
   "execution_count": 1,
   "metadata": {},
   "outputs": [],
   "source": [
    "from src.model.pipeline import run\n",
    "import os"
   ]
  },
  {
   "cell_type": "code",
   "execution_count": 2,
   "metadata": {},
   "outputs": [
    {
     "data": {
      "text/plain": [
       "'/home/biobot/disk/ldopa'"
      ]
     },
     "execution_count": 2,
     "metadata": {},
     "output_type": "execute_result"
    }
   ],
   "source": [
    "# Root directory as working directory\n",
    "os.chdir('..')\n",
    "os.getcwd()"
   ]
  },
  {
   "attachments": {},
   "cell_type": "markdown",
   "metadata": {},
   "source": [
    "svc 0.81 0.513\n",
    "\n",
    "xgboost 1.0 0.58\n",
    "\n",
    "radiomics 0.699 0.667\n",
    "\n",
    "cobra 0.637 0.645\n",
    "\n",
    "surf "
   ]
  },
  {
   "cell_type": "code",
   "execution_count": 3,
   "metadata": {},
   "outputs": [
    {
     "name": "stdout",
     "output_type": "stream",
     "text": [
      "Task: classification/2\n",
      "\n",
      "Feature: ['t1_radiomic']\n",
      "\n",
      "SEX chi2 p: 0.5414803876006902\n",
      "CAT chi2 p: 0.9510706628888684\n",
      "AGE Normaltest p_train: [0.07505303], p_test: [0.48389882]\n",
      "AGE t-test p: Ttest_indResult(statistic=array([1.54953415]), pvalue=array([0.12271054]))\n",
      "NUPDR3OF Normaltest p_train: [0.01407325], p_test: [0.53859285]\n",
      "NUPDR3OF ranksums p: RanksumsResult(statistic=array([0.53408144]), pvalue=array([0.59328519]))\n",
      "LEDD Normaltest p_train: [2.56158925e-12], p_test: [0.1798008]\n",
      "LEDD ranksums p: RanksumsResult(statistic=array([0.51837316]), pvalue=array([0.60419794]))\n",
      "DURATION Normaltest p_train: [0.00553476], p_test: [0.13860719]\n",
      "DURATION ranksums p: RanksumsResult(statistic=array([-0.45554005]), pvalue=array([0.64872076]))\n",
      "\n"
     ]
    },
    {
     "name": "stderr",
     "output_type": "stream",
     "text": [
      "100%|██████████| 50/50 [00:01<00:00, 29.66it/s]\n"
     ]
    },
    {
     "name": "stdout",
     "output_type": "stream",
     "text": [
      "Selected features: ['rTHA_original_gldm_LargeDependenceHighGrayLevelEmphasis', 'rRN_original_glszm_SmallAreaLowGrayLevelEmphasis', 'lCAU_original_glcm_Idn', 'lGPe_original_gldm_SmallDependenceLowGrayLevelEmphasis', 'lGPi_original_glcm_Correlation', 'rTHA_original_gldm_SmallDependenceLowGrayLevelEmphasis', 'rCAU_original_glszm_LargeAreaHighGrayLevelEmphasis', 'rTHA_original_glszm_LargeAreaHighGrayLevelEmphasis', 'lGPe_original_glcm_Correlation', 'rCAU_original_glcm_Idn', 'rTHA_original_glcm_Idn', 'rTHA_original_glcm_ClusterShade', 'rCAU_original_glrlm_LongRunHighGrayLevelEmphasis', 'rSN_original_glszm_LargeAreaHighGrayLevelEmphasis', 'rGPe_original_gldm_SmallDependenceHighGrayLevelEmphasis', 'lGPe_original_firstorder_Kurtosis', 'lSN_original_glcm_ClusterShade', 'lGPe_original_gldm_LowGrayLevelEmphasis', 'rCAU_original_firstorder_Kurtosis', 'lSTN_original_gldm_SmallDependenceHighGrayLevelEmphasis', 'rGPe_original_firstorder_Minimum', 'rGPe_original_glszm_ZoneEntropy', 'lSN_original_gldm_SmallDependenceHighGrayLevelEmphasis', 'lTHA_original_gldm_LargeDependenceHighGrayLevelEmphasis', 'lGPe_original_firstorder_InterquartileRange', 'rSTN_original_glcm_Idn', 'rGPe_original_gldm_LargeDependenceHighGrayLevelEmphasis', 'lSN_original_gldm_DependenceNonUniformityNormalized', 'rTHA_original_firstorder_Median', 'lSN_original_glcm_ClusterProminence', 'lGPe_original_firstorder_10Percentile', 'lRN_original_glcm_Idn', 'lSTN_original_glcm_InverseVariance', 'rTHA_original_firstorder_Kurtosis', 'rSN_original_firstorder_Kurtosis', 'lGPe_original_glcm_Idmn', 'lCAU_original_firstorder_Kurtosis', 'lGPi_original_firstorder_Minimum', 'rGPi_original_gldm_LargeDependenceHighGrayLevelEmphasis', 'lTHA_original_glcm_Idn', 'rPUT_original_glcm_Idmn', 'lGPe_original_firstorder_Skewness', 'lTHA_original_glszm_LargeAreaHighGrayLevelEmphasis', 'lRN_original_firstorder_Maximum', 'lGPi_original_glszm_SmallAreaHighGrayLevelEmphasis', 'lSTN_original_firstorder_RobustMeanAbsoluteDeviation', 'rTHA_original_gldm_LowGrayLevelEmphasis', 'lTHA_original_firstorder_Skewness', 'rGPi_original_firstorder_Minimum', 'rPUT_original_firstorder_Kurtosis']\n",
      "\n",
      "Selected alpha: 0.010779131700049188\n",
      "\n",
      "Selected features: ['rTHA_original_gldm_LargeDependenceHighGrayLevelEmphasis'\n",
      " 'lGPi_original_glcm_Correlation'\n",
      " 'rCAU_original_glszm_LargeAreaHighGrayLevelEmphasis'\n",
      " 'rCAU_original_glcm_Idn'\n",
      " 'rSN_original_glszm_LargeAreaHighGrayLevelEmphasis']\n",
      "\n",
      "Selected features: ['rTHA_original_gldm_LargeDependenceHighGrayLevelEmphasis'\n",
      " 'lGPi_original_glcm_Correlation'\n",
      " 'rCAU_original_glszm_LargeAreaHighGrayLevelEmphasis'\n",
      " 'rCAU_original_glcm_Idn']\n",
      "\n",
      "Demo + Clinic:\n",
      "\n",
      "Best params: {'C': 0.1, 'coef0': 1, 'degree': 3, 'gamma': 'scale', 'kernel': 'poly', 'probability': True, 'random_state': 1, 'shrinking': True, 'tol': 1e-10}\n",
      "\n",
      "Model: svc\n",
      "\n",
      "AUC train 0.7383052659716653 ci ConfidenceInterval(low=0.6507048092186931, high=0.8020253190969897)\n",
      "\n",
      "AUC test 0.7272727272727273 ci ConfidenceInterval(low=0.5649811692541292, high=0.8575054486792041)\n",
      "\n",
      "Best params: {'colsample_bytree': 0.8, 'learning_rate': 0.3, 'max_depth': 5, 'min_child_weight': 1, 'missing': -999, 'n_estimators': 25, 'nthread': 4, 'objective': 'binary:logistic', 'random_state': 1, 'subsample': 0.85}\n",
      "\n",
      "Model: xgboost\n",
      "\n",
      "AUC train 0.9994653835872762 ci ConfidenceInterval(low=0.995989538006138, high=1.0)\n",
      "\n",
      "AUC test 0.7253787878787878 ci ConfidenceInterval(low=0.5673071214744483, high=0.8688895554578596)\n",
      "\n",
      "Demo + Clinic + Img:\n",
      "\n",
      "Best params: {'C': 1, 'coef0': 0, 'degree': 3, 'gamma': 'scale', 'kernel': 'linear', 'probability': True, 'random_state': 1, 'shrinking': True, 'tol': 1e-10}\n",
      "\n",
      "Model: svc\n",
      "\n",
      "AUC train 0.7677759957230688 ci ConfidenceInterval(low=0.6950127882425708, high=0.8340323649786903)\n",
      "\n",
      "AUC test 0.7613636363636364 ci ConfidenceInterval(low=0.6119880047497028, high=0.8851916553624647)\n",
      "\n",
      "Best params: {'colsample_bytree': 0.8, 'learning_rate': 0.3, 'max_depth': 5, 'min_child_weight': 1, 'missing': -999, 'n_estimators': 100, 'nthread': 4, 'objective': 'binary:logistic', 'random_state': 1, 'subsample': 0.85}\n",
      "\n",
      "Model: xgboost\n",
      "\n",
      "AUC train 1.0 ci ConfidenceInterval(low=nan, high=nan)\n",
      "\n",
      "AUC test 0.7840909090909091 ci ConfidenceInterval(low=0.6185585313547785, high=0.8960857325923094)\n",
      "\n"
     ]
    }
   ],
   "source": [
    "run('pat_data', ['classification/2'], [['t1_radiomic']], print)"
   ]
  }
 ],
 "metadata": {
  "kernelspec": {
   "display_name": "Python 3",
   "language": "python",
   "name": "python3"
  },
  "language_info": {
   "codemirror_mode": {
    "name": "ipython",
    "version": 3
   },
   "file_extension": ".py",
   "mimetype": "text/x-python",
   "name": "python",
   "nbconvert_exporter": "python",
   "pygments_lexer": "ipython3",
   "version": "3.10.9"
  },
  "orig_nbformat": 4
 },
 "nbformat": 4,
 "nbformat_minor": 2
}
