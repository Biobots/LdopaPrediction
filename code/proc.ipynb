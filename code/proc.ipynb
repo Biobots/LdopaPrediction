{
 "cells": [
  {
   "cell_type": "code",
   "execution_count": 1,
   "metadata": {},
   "outputs": [],
   "source": [
    "from src.model.pipeline import run\n",
    "import os"
   ]
  },
  {
   "cell_type": "code",
   "execution_count": 2,
   "metadata": {},
   "outputs": [
    {
     "data": {
      "text/plain": [
       "'/home/biobot/disk/ldopa'"
      ]
     },
     "execution_count": 2,
     "metadata": {},
     "output_type": "execute_result"
    }
   ],
   "source": [
    "# Root directory as working directory\n",
    "os.chdir('..')\n",
    "os.getcwd()"
   ]
  },
  {
   "cell_type": "code",
   "execution_count": 3,
   "metadata": {},
   "outputs": [
    {
     "name": "stdout",
     "output_type": "stream",
     "text": [
      "Task: classification/2\n",
      "\n",
      "Feature: ['malpem_vol']\n",
      "\n",
      "SEX chi2 p: 0.5414803876006902\n",
      "CAT chi2 p: 0.9510706628888684\n",
      "AGE Normaltest p_train: [0.07505303], p_test: [0.48389882]\n",
      "AGE t-test p: Ttest_indResult(statistic=array([1.54953415]), pvalue=array([0.12271054]))\n",
      "NUPDR3OF Normaltest p_train: [0.01407325], p_test: [0.53859285]\n",
      "NUPDR3OF ranksums p: RanksumsResult(statistic=array([0.53408144]), pvalue=array([0.59328519]))\n",
      "LEDD Normaltest p_train: [2.56158925e-12], p_test: [0.1798008]\n",
      "LEDD ranksums p: RanksumsResult(statistic=array([0.51837316]), pvalue=array([0.60419794]))\n",
      "DURATION Normaltest p_train: [0.00553476], p_test: [0.13860719]\n",
      "DURATION ranksums p: RanksumsResult(statistic=array([-0.45554005]), pvalue=array([0.64872076]))\n",
      "\n",
      "['3826V10I808175', '41488V06I951797', '40543V06I1350808', '3575V10I581112', '51731V10I1393697', '3108V10I498885', '3588V10I853418', '3831V10I808231', '56761BLI793579', '4082V10I901269', '41486BLI507838', '3116V04I366133', '3830V10I812608', '52678V06I966928', '75409V06I1494309', '3822V04I382368', '4019V10I665286', '3586V10I1129401', '3575V04I365221', '41664V06I951804', '58671V10I1490559', '3123V10I757784', '58783V10I1490574', '50319V10I1130184', '52678BLI581174', '3558V04I307303', '40366V06I853426', '3325V06I491599', '4081V10I951749', '3132V10I864550', '149511BLI1608595', '3328V10I951591', '3134V10I901141', '3552V06I378359', '3824V10I790482', '3586V04I395438', '41488BLI951755', '3822V10I738235', '75524BLI1350773', '40585BLI814568', '3814V10I615300', '40578BLI473967', '3869V10I1362356', '43083V06I1530587', '75421BLI1366716', '3120V10I738217', '3593V10I864695', '40558BLI473964', '75409BLI1348314', '3323V04I402128', '3327V10I951586', '41420BLI473979', '3181V06I440164', '40740BLI1119718', '41488V04I790503', '3835V10I951663', '3179V10I778961', '3575V06I420338', '3375V06I440176', '73935BLI1196687', '41749V06I1125127', '3567V10I507388', '4029V10I901184', '3182V06I449550', '3113V06I393646', '3178V10I769279', '41412BLI468229', '4082V06I554251', '50901V10I1199379', '41486V10I1393789', '3325V10I790480', '3838V04I423752', '3808V06I402072', '3174V04I369358', '41380BLI468221', '51731V06I1003248', '40694BLI814595', '3587V04I415720', '3819V04I395443', '3126V10I790471', '3182V10I778967', '40735V10I1524146', '40735BLI1361715', '3587V06I449582', '53339V10I1351004', '3378V04I387325', '74067V06I1494222', '40693BLI814591', '3118V10I665282', '41486V04I769301', '51731BLI554328', '58510V10I1490541', '3154V06I414610', '3154V10I491590', '3190V10I901148', '71093BLI1196800', '3174V06I430155', '3323V10I778976', '40366V10I1199048', '74067V10I1584008', '100898V04I1573490', '41664V10I1350815', '50027BLI1225075', '3308V10I615239', '3826V06I449627', '3130V10I831130', '3825V10I769296', '3808V04I340801', '52128V10I1350930', '3829V04I395612', '75480BLI1196703', '40690BLI814579', '50901BLI491636', '50901V06I864900', '75505BLI1196820', '40534V06I1224288', '3800V06I393687', '58454BLI893238', '52530BLI626663', '3808V10I515239', '4082V04I423770', '100952V04I1581265', '57037BLI864972', '41384BLI468222', '41521BLI495192', '3577V10I615270', '41749BLI1412647', '3824V06I449617', '57880BLI1196791', '41411BLI1396140', '3834V10I864776', '57127V10I1490511', '3552V10I482303', '3819V10I689617', '3127V10I864514', '3577V04I365249', '52678V10I1350996', '50028BLI449698', '3586V06I449577', '3174V10I689582', '56435V10I1490496', '3354V06I372328', '3375V04I393623', '59507V04I1362159', '101038V04I1616556', '41405BLI495214', '3107V10I498876', '50028V04I554320', '3834V04I415727', '40691BLI814583', '3567V06I402060', '3829V10I832481', '51518BLI945374', '3826V04I395598', '4081V06I554248', '40707BLI451005', '59121V10I1499338', '41486V06I901274', '40714BLI468216', '3588V04I419357', '3131V04I423712', '3108V06I378222', '75505V06I1519185', '3800V10I497237', '3107V06I378218', '3828V04I395608', '3558V06I372353', '50028V06I769309', '3328V04I419333', '3825V04I393643', '3328V06I497218', '41508BLI495185', '3178V04I382299']\n",
      "['3826V10I808175', '41488V06I951797', '40543V06I1350808', '3575V10I581112', '51731V10I1393697', '3108V10I498885', '3588V10I853418', '3831V10I808231', '56761BLI793579', '4082V10I901269', '41486BLI507838', '3116V04I366133', '3830V10I812608', '52678V06I966928', '75409V06I1494309', '3822V04I382368', '4019V10I665286', '3586V10I1129401', '3575V04I365221', '41664V06I951804', '58671V10I1490559', '3123V10I757784', '58783V10I1490574', '50319V10I1130184', '52678BLI581174', '3558V04I307303', '40366V06I853426', '3325V06I491599', '4081V10I951749', '3132V10I864550', '149511BLI1608595', '3328V10I951591', '3134V10I901141', '3552V06I378359', '3824V10I790482', '3586V04I395438', '41488BLI951755', '3822V10I738235', '75524BLI1350773', '40585BLI814568', '3814V10I615300', '40578BLI473967', '3869V10I1362356', '43083V06I1530587', '75421BLI1366716', '3120V10I738217', '3593V10I864695', '40558BLI473964', '75409BLI1348314', '3323V04I402128', '3327V10I951586', '41420BLI473979', '3181V06I440164', '40740BLI1119718', '41488V04I790503', '3835V10I951663', '3179V10I778961', '3575V06I420338', '3375V06I440176', '73935BLI1196687', '41749V06I1125127', '3567V10I507388', '4029V10I901184', '3182V06I449550', '3113V06I393646', '3178V10I769279', '41412BLI468229', '4082V06I554251', '50901V10I1199379', '41486V10I1393789', '3325V10I790480', '3838V04I423752', '3808V06I402072', '3174V04I369358', '41380BLI468221', '51731V06I1003248', '40694BLI814595', '3587V04I415720', '3819V04I395443', '3126V10I790471', '3182V10I778967', '40735V10I1524146', '40735BLI1361715', '3587V06I449582', '53339V10I1351004', '3378V04I387325', '74067V06I1494222', '40693BLI814591', '3118V10I665282', '41486V04I769301', '51731BLI554328', '58510V10I1490541', '3154V06I414610', '3154V10I491590', '3190V10I901148', '71093BLI1196800', '3174V06I430155', '3323V10I778976', '40366V10I1199048', '74067V10I1584008', '100898V04I1573490', '41664V10I1350815', '50027BLI1225075', '3308V10I615239', '3826V06I449627', '3130V10I831130', '3825V10I769296', '3808V04I340801', '52128V10I1350930', '3829V04I395612', '75480BLI1196703', '40690BLI814579', '50901BLI491636', '50901V06I864900', '75505BLI1196820', '40534V06I1224288', '3800V06I393687', '58454BLI893238', '52530BLI626663', '3808V10I515239', '4082V04I423770', '100952V04I1581265', '57037BLI864972', '41384BLI468222', '41521BLI495192', '3577V10I615270', '41749BLI1412647', '3824V06I449617', '57880BLI1196791', '41411BLI1396140', '3834V10I864776', '57127V10I1490511', '3552V10I482303', '3819V10I689617', '3127V10I864514', '3577V04I365249', '52678V10I1350996', '50028BLI449698', '3586V06I449577', '3174V10I689582', '56435V10I1490496', '3354V06I372328', '3375V04I393623', '59507V04I1362159', '101038V04I1616556', '41405BLI495214', '3107V10I498876', '50028V04I554320', '3834V04I415727', '40691BLI814583', '3567V06I402060', '3829V10I832481', '51518BLI945374', '3826V04I395598', '4081V06I554248', '40707BLI451005', '59121V10I1499338', '41486V06I901274', '40714BLI468216', '3588V04I419357', '3131V04I423712', '3108V06I378222', '75505V06I1519185', '3800V10I497237', '3107V06I378218', '3828V04I395608', '3558V06I372353', '50028V06I769309', '3328V04I419333', '3825V04I393643', '3328V06I497218', '41508BLI495185', '3178V04I382299']\n"
     ]
    },
    {
     "name": "stderr",
     "output_type": "stream",
     "text": [
      "100%|██████████| 50/50 [00:01<00:00, 35.78it/s]\n"
     ]
    },
    {
     "name": "stdout",
     "output_type": "stream",
     "text": [
      "Selected features: ['CerebellarVermalLobulesI-V', 'RightMOG', 'Rightvessel', 'OpticChiasm', 'RightPOrG', 'LeftMPoG', 'RightOCP', 'CerebellarVermalLobulesVIII-X', 'LeftOCP', 'LeftCun', 'RightSCA', 'LeftIOG', '4thVentricle', 'LeftMOG', 'LeftPT', 'RightMPoG', 'RightLOrG', 'RightSTG', 'LeftCalc', 'RightPallidum', 'RightCun', 'RightCerebralExterior', 'LeftBasalForebrain', 'RightPoG', 'LeftAOrG', 'LeftLiG', 'RightMSFG', 'RightAOrG', 'LeftMPrG', 'LeftPallidum', 'RightOFuG', 'RightTrIFG', 'LeftTTG', 'RightFuG', 'LeftFRP', 'RightPrG', 'RightAmygdala', 'RightOpIFG', 'LeftThalamusProper', 'LeftPP', 'LeftSOG', 'RightMTG', 'RightAccumbensArea', 'BrainStem', 'RightFRP', 'LeftSCA', 'RightMFG', 'LeftMCgG', 'LeftInfLatVent', 'LeftMSFG']\n",
      "\n",
      "Selected alpha: 0.01520140942471269\n",
      "\n",
      "Selected features: ['CerebellarVermalLobulesI-V' 'LeftOCP']\n",
      "\n",
      "Demo + Clinic:\n",
      "\n",
      "Model: svc\n",
      "\n",
      "AUC train 0.7654370489174017\n",
      "\n",
      "ConfidenceInterval(low=0.6797667659425877, high=0.82968242326408)\n",
      "\n",
      "AUC test 0.7102272727272727\n",
      "\n",
      "ConfidenceInterval(low=0.5370027498869742, high=0.847207654865799)\n",
      "\n"
     ]
    },
    {
     "ename": "KeyboardInterrupt",
     "evalue": "",
     "output_type": "error",
     "traceback": [
      "\u001b[0;31m---------------------------------------------------------------------------\u001b[0m",
      "\u001b[0;31mKeyboardInterrupt\u001b[0m                         Traceback (most recent call last)",
      "Cell \u001b[0;32mIn[3], line 1\u001b[0m\n\u001b[0;32m----> 1\u001b[0m run(\u001b[39m'\u001b[39;49m\u001b[39mpat_data\u001b[39;49m\u001b[39m'\u001b[39;49m, [\u001b[39m'\u001b[39;49m\u001b[39mclassification/2\u001b[39;49m\u001b[39m'\u001b[39;49m], [[\u001b[39m'\u001b[39;49m\u001b[39mmalpem_vol\u001b[39;49m\u001b[39m'\u001b[39;49m]], \u001b[39mprint\u001b[39;49m)\n",
      "File \u001b[0;32m~/disk/ldopa/code/src/model/pipeline.py:135\u001b[0m, in \u001b[0;36mrun\u001b[0;34m(dataname, TASKS, FEATURES, log_func)\u001b[0m\n\u001b[1;32m    124\u001b[0m model \u001b[39m=\u001b[39m Model_LUT[name]\n\u001b[1;32m    126\u001b[0m cv \u001b[39m=\u001b[39m GridSearchCV(\n\u001b[1;32m    127\u001b[0m     model(),\n\u001b[1;32m    128\u001b[0m     parameters,\n\u001b[0;32m   (...)\u001b[0m\n\u001b[1;32m    132\u001b[0m     scoring\u001b[39m=\u001b[39mtask[\u001b[39m'\u001b[39m\u001b[39mgridsearch_params\u001b[39m\u001b[39m'\u001b[39m][\u001b[39m'\u001b[39m\u001b[39mscoring\u001b[39m\u001b[39m'\u001b[39m]\n\u001b[1;32m    133\u001b[0m )\n\u001b[0;32m--> 135\u001b[0m cv\u001b[39m.\u001b[39;49mfit(x_train, y_train\u001b[39m.\u001b[39;49mvalues\u001b[39m.\u001b[39;49mravel())\n\u001b[1;32m    136\u001b[0m \u001b[39m#log_func('Best params: {}\\n'.format(cv.best_params_))\u001b[39;00m\n\u001b[1;32m    137\u001b[0m model_instance \u001b[39m=\u001b[39m model(\u001b[39m*\u001b[39m\u001b[39m*\u001b[39mcv\u001b[39m.\u001b[39mbest_params_)\n",
      "File \u001b[0;32m~/.pyenv/versions/3.10.9/lib/python3.10/site-packages/sklearn/model_selection/_search.py:874\u001b[0m, in \u001b[0;36mBaseSearchCV.fit\u001b[0;34m(self, X, y, groups, **fit_params)\u001b[0m\n\u001b[1;32m    868\u001b[0m     results \u001b[39m=\u001b[39m \u001b[39mself\u001b[39m\u001b[39m.\u001b[39m_format_results(\n\u001b[1;32m    869\u001b[0m         all_candidate_params, n_splits, all_out, all_more_results\n\u001b[1;32m    870\u001b[0m     )\n\u001b[1;32m    872\u001b[0m     \u001b[39mreturn\u001b[39;00m results\n\u001b[0;32m--> 874\u001b[0m \u001b[39mself\u001b[39;49m\u001b[39m.\u001b[39;49m_run_search(evaluate_candidates)\n\u001b[1;32m    876\u001b[0m \u001b[39m# multimetric is determined here because in the case of a callable\u001b[39;00m\n\u001b[1;32m    877\u001b[0m \u001b[39m# self.scoring the return type is only known after calling\u001b[39;00m\n\u001b[1;32m    878\u001b[0m first_test_score \u001b[39m=\u001b[39m all_out[\u001b[39m0\u001b[39m][\u001b[39m\"\u001b[39m\u001b[39mtest_scores\u001b[39m\u001b[39m\"\u001b[39m]\n",
      "File \u001b[0;32m~/.pyenv/versions/3.10.9/lib/python3.10/site-packages/sklearn/model_selection/_search.py:1388\u001b[0m, in \u001b[0;36mGridSearchCV._run_search\u001b[0;34m(self, evaluate_candidates)\u001b[0m\n\u001b[1;32m   1386\u001b[0m \u001b[39mdef\u001b[39;00m \u001b[39m_run_search\u001b[39m(\u001b[39mself\u001b[39m, evaluate_candidates):\n\u001b[1;32m   1387\u001b[0m \u001b[39m    \u001b[39m\u001b[39m\"\"\"Search all candidates in param_grid\"\"\"\u001b[39;00m\n\u001b[0;32m-> 1388\u001b[0m     evaluate_candidates(ParameterGrid(\u001b[39mself\u001b[39;49m\u001b[39m.\u001b[39;49mparam_grid))\n",
      "File \u001b[0;32m~/.pyenv/versions/3.10.9/lib/python3.10/site-packages/sklearn/model_selection/_search.py:821\u001b[0m, in \u001b[0;36mBaseSearchCV.fit.<locals>.evaluate_candidates\u001b[0;34m(candidate_params, cv, more_results)\u001b[0m\n\u001b[1;32m    813\u001b[0m \u001b[39mif\u001b[39;00m \u001b[39mself\u001b[39m\u001b[39m.\u001b[39mverbose \u001b[39m>\u001b[39m \u001b[39m0\u001b[39m:\n\u001b[1;32m    814\u001b[0m     \u001b[39mprint\u001b[39m(\n\u001b[1;32m    815\u001b[0m         \u001b[39m\"\u001b[39m\u001b[39mFitting \u001b[39m\u001b[39m{0}\u001b[39;00m\u001b[39m folds for each of \u001b[39m\u001b[39m{1}\u001b[39;00m\u001b[39m candidates,\u001b[39m\u001b[39m\"\u001b[39m\n\u001b[1;32m    816\u001b[0m         \u001b[39m\"\u001b[39m\u001b[39m totalling \u001b[39m\u001b[39m{2}\u001b[39;00m\u001b[39m fits\u001b[39m\u001b[39m\"\u001b[39m\u001b[39m.\u001b[39mformat(\n\u001b[1;32m    817\u001b[0m             n_splits, n_candidates, n_candidates \u001b[39m*\u001b[39m n_splits\n\u001b[1;32m    818\u001b[0m         )\n\u001b[1;32m    819\u001b[0m     )\n\u001b[0;32m--> 821\u001b[0m out \u001b[39m=\u001b[39m parallel(\n\u001b[1;32m    822\u001b[0m     delayed(_fit_and_score)(\n\u001b[1;32m    823\u001b[0m         clone(base_estimator),\n\u001b[1;32m    824\u001b[0m         X,\n\u001b[1;32m    825\u001b[0m         y,\n\u001b[1;32m    826\u001b[0m         train\u001b[39m=\u001b[39;49mtrain,\n\u001b[1;32m    827\u001b[0m         test\u001b[39m=\u001b[39;49mtest,\n\u001b[1;32m    828\u001b[0m         parameters\u001b[39m=\u001b[39;49mparameters,\n\u001b[1;32m    829\u001b[0m         split_progress\u001b[39m=\u001b[39;49m(split_idx, n_splits),\n\u001b[1;32m    830\u001b[0m         candidate_progress\u001b[39m=\u001b[39;49m(cand_idx, n_candidates),\n\u001b[1;32m    831\u001b[0m         \u001b[39m*\u001b[39;49m\u001b[39m*\u001b[39;49mfit_and_score_kwargs,\n\u001b[1;32m    832\u001b[0m     )\n\u001b[1;32m    833\u001b[0m     \u001b[39mfor\u001b[39;49;00m (cand_idx, parameters), (split_idx, (train, test)) \u001b[39min\u001b[39;49;00m product(\n\u001b[1;32m    834\u001b[0m         \u001b[39menumerate\u001b[39;49m(candidate_params), \u001b[39menumerate\u001b[39;49m(cv\u001b[39m.\u001b[39;49msplit(X, y, groups))\n\u001b[1;32m    835\u001b[0m     )\n\u001b[1;32m    836\u001b[0m )\n\u001b[1;32m    838\u001b[0m \u001b[39mif\u001b[39;00m \u001b[39mlen\u001b[39m(out) \u001b[39m<\u001b[39m \u001b[39m1\u001b[39m:\n\u001b[1;32m    839\u001b[0m     \u001b[39mraise\u001b[39;00m \u001b[39mValueError\u001b[39;00m(\n\u001b[1;32m    840\u001b[0m         \u001b[39m\"\u001b[39m\u001b[39mNo fits were performed. \u001b[39m\u001b[39m\"\u001b[39m\n\u001b[1;32m    841\u001b[0m         \u001b[39m\"\u001b[39m\u001b[39mWas the CV iterator empty? \u001b[39m\u001b[39m\"\u001b[39m\n\u001b[1;32m    842\u001b[0m         \u001b[39m\"\u001b[39m\u001b[39mWere there no candidates?\u001b[39m\u001b[39m\"\u001b[39m\n\u001b[1;32m    843\u001b[0m     )\n",
      "File \u001b[0;32m~/.pyenv/versions/3.10.9/lib/python3.10/site-packages/sklearn/utils/parallel.py:63\u001b[0m, in \u001b[0;36mParallel.__call__\u001b[0;34m(self, iterable)\u001b[0m\n\u001b[1;32m     58\u001b[0m config \u001b[39m=\u001b[39m get_config()\n\u001b[1;32m     59\u001b[0m iterable_with_config \u001b[39m=\u001b[39m (\n\u001b[1;32m     60\u001b[0m     (_with_config(delayed_func, config), args, kwargs)\n\u001b[1;32m     61\u001b[0m     \u001b[39mfor\u001b[39;00m delayed_func, args, kwargs \u001b[39min\u001b[39;00m iterable\n\u001b[1;32m     62\u001b[0m )\n\u001b[0;32m---> 63\u001b[0m \u001b[39mreturn\u001b[39;00m \u001b[39msuper\u001b[39;49m()\u001b[39m.\u001b[39;49m\u001b[39m__call__\u001b[39;49m(iterable_with_config)\n",
      "File \u001b[0;32m~/.pyenv/versions/3.10.9/lib/python3.10/site-packages/joblib/parallel.py:1098\u001b[0m, in \u001b[0;36mParallel.__call__\u001b[0;34m(self, iterable)\u001b[0m\n\u001b[1;32m   1095\u001b[0m     \u001b[39mself\u001b[39m\u001b[39m.\u001b[39m_iterating \u001b[39m=\u001b[39m \u001b[39mFalse\u001b[39;00m\n\u001b[1;32m   1097\u001b[0m \u001b[39mwith\u001b[39;00m \u001b[39mself\u001b[39m\u001b[39m.\u001b[39m_backend\u001b[39m.\u001b[39mretrieval_context():\n\u001b[0;32m-> 1098\u001b[0m     \u001b[39mself\u001b[39;49m\u001b[39m.\u001b[39;49mretrieve()\n\u001b[1;32m   1099\u001b[0m \u001b[39m# Make sure that we get a last message telling us we are done\u001b[39;00m\n\u001b[1;32m   1100\u001b[0m elapsed_time \u001b[39m=\u001b[39m time\u001b[39m.\u001b[39mtime() \u001b[39m-\u001b[39m \u001b[39mself\u001b[39m\u001b[39m.\u001b[39m_start_time\n",
      "File \u001b[0;32m~/.pyenv/versions/3.10.9/lib/python3.10/site-packages/joblib/parallel.py:975\u001b[0m, in \u001b[0;36mParallel.retrieve\u001b[0;34m(self)\u001b[0m\n\u001b[1;32m    973\u001b[0m \u001b[39mtry\u001b[39;00m:\n\u001b[1;32m    974\u001b[0m     \u001b[39mif\u001b[39;00m \u001b[39mgetattr\u001b[39m(\u001b[39mself\u001b[39m\u001b[39m.\u001b[39m_backend, \u001b[39m'\u001b[39m\u001b[39msupports_timeout\u001b[39m\u001b[39m'\u001b[39m, \u001b[39mFalse\u001b[39;00m):\n\u001b[0;32m--> 975\u001b[0m         \u001b[39mself\u001b[39m\u001b[39m.\u001b[39m_output\u001b[39m.\u001b[39mextend(job\u001b[39m.\u001b[39;49mget(timeout\u001b[39m=\u001b[39;49m\u001b[39mself\u001b[39;49m\u001b[39m.\u001b[39;49mtimeout))\n\u001b[1;32m    976\u001b[0m     \u001b[39melse\u001b[39;00m:\n\u001b[1;32m    977\u001b[0m         \u001b[39mself\u001b[39m\u001b[39m.\u001b[39m_output\u001b[39m.\u001b[39mextend(job\u001b[39m.\u001b[39mget())\n",
      "File \u001b[0;32m~/.pyenv/versions/3.10.9/lib/python3.10/site-packages/joblib/_parallel_backends.py:567\u001b[0m, in \u001b[0;36mLokyBackend.wrap_future_result\u001b[0;34m(future, timeout)\u001b[0m\n\u001b[1;32m    564\u001b[0m \u001b[39m\u001b[39m\u001b[39m\"\"\"Wrapper for Future.result to implement the same behaviour as\u001b[39;00m\n\u001b[1;32m    565\u001b[0m \u001b[39mAsyncResults.get from multiprocessing.\"\"\"\u001b[39;00m\n\u001b[1;32m    566\u001b[0m \u001b[39mtry\u001b[39;00m:\n\u001b[0;32m--> 567\u001b[0m     \u001b[39mreturn\u001b[39;00m future\u001b[39m.\u001b[39;49mresult(timeout\u001b[39m=\u001b[39;49mtimeout)\n\u001b[1;32m    568\u001b[0m \u001b[39mexcept\u001b[39;00m CfTimeoutError \u001b[39mas\u001b[39;00m e:\n\u001b[1;32m    569\u001b[0m     \u001b[39mraise\u001b[39;00m \u001b[39mTimeoutError\u001b[39;00m \u001b[39mfrom\u001b[39;00m \u001b[39me\u001b[39;00m\n",
      "File \u001b[0;32m~/.pyenv/versions/3.10.9/lib/python3.10/concurrent/futures/_base.py:453\u001b[0m, in \u001b[0;36mFuture.result\u001b[0;34m(self, timeout)\u001b[0m\n\u001b[1;32m    450\u001b[0m \u001b[39melif\u001b[39;00m \u001b[39mself\u001b[39m\u001b[39m.\u001b[39m_state \u001b[39m==\u001b[39m FINISHED:\n\u001b[1;32m    451\u001b[0m     \u001b[39mreturn\u001b[39;00m \u001b[39mself\u001b[39m\u001b[39m.\u001b[39m__get_result()\n\u001b[0;32m--> 453\u001b[0m \u001b[39mself\u001b[39;49m\u001b[39m.\u001b[39;49m_condition\u001b[39m.\u001b[39;49mwait(timeout)\n\u001b[1;32m    455\u001b[0m \u001b[39mif\u001b[39;00m \u001b[39mself\u001b[39m\u001b[39m.\u001b[39m_state \u001b[39min\u001b[39;00m [CANCELLED, CANCELLED_AND_NOTIFIED]:\n\u001b[1;32m    456\u001b[0m     \u001b[39mraise\u001b[39;00m CancelledError()\n",
      "File \u001b[0;32m~/.pyenv/versions/3.10.9/lib/python3.10/threading.py:320\u001b[0m, in \u001b[0;36mCondition.wait\u001b[0;34m(self, timeout)\u001b[0m\n\u001b[1;32m    318\u001b[0m \u001b[39mtry\u001b[39;00m:    \u001b[39m# restore state no matter what (e.g., KeyboardInterrupt)\u001b[39;00m\n\u001b[1;32m    319\u001b[0m     \u001b[39mif\u001b[39;00m timeout \u001b[39mis\u001b[39;00m \u001b[39mNone\u001b[39;00m:\n\u001b[0;32m--> 320\u001b[0m         waiter\u001b[39m.\u001b[39;49macquire()\n\u001b[1;32m    321\u001b[0m         gotit \u001b[39m=\u001b[39m \u001b[39mTrue\u001b[39;00m\n\u001b[1;32m    322\u001b[0m     \u001b[39melse\u001b[39;00m:\n",
      "\u001b[0;31mKeyboardInterrupt\u001b[0m: "
     ]
    }
   ],
   "source": [
    "run('pat_data', ['classification/2'], [['malpem_vol']], print)"
   ]
  }
 ],
 "metadata": {
  "kernelspec": {
   "display_name": "Python 3",
   "language": "python",
   "name": "python3"
  },
  "language_info": {
   "codemirror_mode": {
    "name": "ipython",
    "version": 3
   },
   "file_extension": ".py",
   "mimetype": "text/x-python",
   "name": "python",
   "nbconvert_exporter": "python",
   "pygments_lexer": "ipython3",
   "version": "3.10.9"
  },
  "orig_nbformat": 4
 },
 "nbformat": 4,
 "nbformat_minor": 2
}
