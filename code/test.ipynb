{
 "cells": [
  {
   "cell_type": "code",
   "execution_count": 1,
   "metadata": {},
   "outputs": [],
   "source": [
    "from process.clinic_data import writeClinic\n",
    "from process.img_data import imgRedir\n",
    "from process.pat_data import combinePatData, genHCData\n",
    "from src.feature.base import genROI\n",
    "from src.utils.data import getPandas\n",
    "import os\n",
    "os.chdir('..')"
   ]
  },
  {
   "cell_type": "code",
   "execution_count": 2,
   "metadata": {},
   "outputs": [
    {
     "data": {
      "text/plain": [
       "'/home/biobot/ldopa'"
      ]
     },
     "execution_count": 2,
     "metadata": {},
     "output_type": "execute_result"
    }
   ],
   "source": [
    "os.getcwd()"
   ]
  },
  {
   "cell_type": "code",
   "execution_count": 3,
   "metadata": {},
   "outputs": [],
   "source": [
    "pat = getPandas('pat_data')"
   ]
  },
  {
   "cell_type": "code",
   "execution_count": 9,
   "metadata": {},
   "outputs": [],
   "source": [
    "pat['ANTs_Reg'] = pat['IMG_ROOT'] + os.sep + 'reg.nii.gz'\n",
    "pat['FSL_GM'] = pat['IMG_ROOT'] + os.sep + 'reg_gm.nii'\n",
    "pat['FSL_WM'] = pat['IMG_ROOT'] + os.sep + 'reg_wm.nii'\n",
    "pat['FSL_CSF'] = pat['IMG_ROOT'] + os.sep + 'reg_csf.nii'\n",
    "pat['FSL_SGM'] = pat['IMG_ROOT'] + os.sep + 'sreg_gm_masked.nii'"
   ]
  },
  {
   "cell_type": "code",
   "execution_count": 11,
   "metadata": {},
   "outputs": [],
   "source": [
    "from src.utils.data import writePandas"
   ]
  },
  {
   "cell_type": "code",
   "execution_count": 12,
   "metadata": {},
   "outputs": [],
   "source": [
    "writePandas('pat_data', pat)"
   ]
  },
  {
   "cell_type": "code",
   "execution_count": 14,
   "metadata": {},
   "outputs": [
    {
     "data": {
      "text/plain": [
       "0      True\n",
       "1      True\n",
       "2      True\n",
       "3      True\n",
       "4      True\n",
       "       ... \n",
       "208    True\n",
       "209    True\n",
       "210    True\n",
       "211    True\n",
       "212    True\n",
       "Length: 213, dtype: bool"
      ]
     },
     "execution_count": 14,
     "metadata": {},
     "output_type": "execute_result"
    }
   ],
   "source": []
  }
 ],
 "metadata": {
  "kernelspec": {
   "display_name": "Python 3",
   "language": "python",
   "name": "python3"
  },
  "language_info": {
   "codemirror_mode": {
    "name": "ipython",
    "version": 3
   },
   "file_extension": ".py",
   "mimetype": "text/x-python",
   "name": "python",
   "nbconvert_exporter": "python",
   "pygments_lexer": "ipython3",
   "version": "3.10.9"
  },
  "orig_nbformat": 4
 },
 "nbformat": 4,
 "nbformat_minor": 2
}
