{
 "cells": [
  {
   "cell_type": "code",
   "execution_count": 1,
   "metadata": {},
   "outputs": [],
   "source": [
    "from process.clinic_data import writeClinic\n",
    "from process.img_data import imgRedir\n",
    "from process.pat_data import combinePatData, genHCData\n",
    "from src.feature.base import genROI\n",
    "from src.utils.data import getPandas\n",
    "import os\n",
    "os.chdir('..')"
   ]
  },
  {
   "cell_type": "code",
   "execution_count": 2,
   "metadata": {},
   "outputs": [
    {
     "data": {
      "text/plain": [
       "'/home/biobot/disk/ldopa'"
      ]
     },
     "execution_count": 2,
     "metadata": {},
     "output_type": "execute_result"
    }
   ],
   "source": [
    "os.getcwd()"
   ]
  },
  {
   "cell_type": "code",
   "execution_count": 42,
   "metadata": {},
   "outputs": [],
   "source": [
    "pat = getPandas('hc_data')"
   ]
  },
  {
   "cell_type": "code",
   "execution_count": 7,
   "metadata": {},
   "outputs": [],
   "source": [
    "import nibabel as nib\n",
    "tpm = nib.concat_images([\n",
    "    'data/bin/PD25-GM-tissuemap-1mm.nii',\n",
    "    'data/bin/PD25-WM-tissuemap-1mm.nii',\n",
    "    'data/bin/PD25-CSF-tissuemap-1mm.nii'\n",
    "])\n",
    "nib.save(tpm, 'data/bin/PD25-tissuemap-1mm.nii')"
   ]
  },
  {
   "cell_type": "code",
   "execution_count": 6,
   "metadata": {},
   "outputs": [],
   "source": [
    "from nipype.pipeline.engine import Workflow, Node\n",
    "from nipype import Function\n",
    "import nipype.interfaces.fsl as fsl\n",
    "fsl.FSLCommand.set_default_output_type('NIFTI')\n",
    "import nipype.interfaces.utility as util\n",
    "from nipype.interfaces.cat12.preprocess import CAT12Segment\n",
    "import nipype.interfaces.io as nio"
   ]
  },
  {
   "cell_type": "code",
   "execution_count": 43,
   "metadata": {},
   "outputs": [
    {
     "data": {
      "text/plain": [
       "'data/subj/101747BLI1495885'"
      ]
     },
     "execution_count": 43,
     "metadata": {},
     "output_type": "execute_result"
    }
   ],
   "source": [
    "pat.iloc[0]['IMG_ROOT']"
   ]
  },
  {
   "cell_type": "code",
   "execution_count": 39,
   "metadata": {},
   "outputs": [],
   "source": [
    "wf = Workflow(name='test', base_dir=os.path.abspath('tmp'))\n",
    "seg = Node(CAT12Segment(), name='seg')\n",
    "seg.inputs.in_files = os.path.abspath(pat.iloc[0]['IMG_ROOT']+'/raw/raw.nii')\n",
    "sink = Node(nio.DataSink(), name='sink')\n",
    "sink.inputs.base_directory = os.path.abspath(os.path.join('data', 'subj'))\n",
    "sink.inputs.container = pat.iloc[0]['KEY']\n",
    "sink.inputs.parameterization = False\n",
    "wf.connect([\n",
    "    (seg, sink, [\n",
    "        ('gm_modulated_image', 'cat12.mri.@gm'),\n",
    "        ('wm_modulated_image', 'cat12.mri.@wm'),\n",
    "        ('csf_modulated_image', 'cat12.mri.@csf'),\n",
    "        ('mri_images', 'cat12.mri.@mri_images'),\n",
    "        ('label_files', 'cat12.label.@label_files'),\n",
    "        ('label_roi', 'cat12.label.@label_roi'),\n",
    "        ('label_rois', 'cat12.label.@label_rois'),\n",
    "        ('lh_central_surface', 'cat12.surf.@lh_central_surface'),\n",
    "        ('lh_sphere_surface', 'cat12.surf.@lh_sphere_surface'),\n",
    "        ('rh_central_surface', 'cat12.surf.@rh_central_surface'),\n",
    "        ('rh_sphere_surface', 'cat12.surf.@rh_sphere_surface'),\n",
    "        ('report_files', 'cat12.report.@report_files'),\n",
    "        ('report', 'cat12.report.@report'),\n",
    "        ('surface_files', 'cat12.surf.@surface_files'),\n",
    "        ]),\n",
    "])"
   ]
  },
  {
   "cell_type": "code",
   "execution_count": 40,
   "metadata": {},
   "outputs": [
    {
     "name": "stdout",
     "output_type": "stream",
     "text": [
      "230402-18:20:50,664 nipype.workflow INFO:\n",
      "\t Workflow test settings: ['check', 'execution', 'logging', 'monitoring']\n",
      "230402-18:20:50,673 nipype.workflow INFO:\n",
      "\t Running serially.\n",
      "230402-18:20:50,674 nipype.workflow INFO:\n",
      "\t [Node] Setting-up \"test.seg\" in \"/home/biobot/disk/ldopa/tmp/test/seg\".\n",
      "230402-18:20:50,682 nipype.workflow INFO:\n",
      "\t [Node] Cached \"test.seg\" - collecting precomputed outputs\n",
      "230402-18:20:50,684 nipype.workflow INFO:\n",
      "\t [Node] \"test.seg\" found cached.\n",
      "230402-18:20:50,684 nipype.workflow INFO:\n",
      "\t [Node] Setting-up \"test.sink\" in \"/home/biobot/disk/ldopa/tmp/test/sink\".\n",
      "230402-18:20:50,695 nipype.workflow INFO:\n",
      "\t [Node] Outdated cache found for \"test.sink\".\n",
      "230402-18:20:50,702 nipype.workflow INFO:\n",
      "\t [Node] Executing \"sink\" <nipype.interfaces.io.DataSink>\n",
      "230402-18:20:50,712 nipype.workflow INFO:\n",
      "\t [Node] Finished \"sink\", elapsed time 0.007499s.\n"
     ]
    },
    {
     "data": {
      "text/plain": [
       "<networkx.classes.digraph.DiGraph at 0x7f59ff2c8dc0>"
      ]
     },
     "execution_count": 40,
     "metadata": {},
     "output_type": "execute_result"
    }
   ],
   "source": [
    "wf.run()"
   ]
  }
 ],
 "metadata": {
  "kernelspec": {
   "display_name": "Python 3",
   "language": "python",
   "name": "python3"
  },
  "language_info": {
   "codemirror_mode": {
    "name": "ipython",
    "version": 3
   },
   "file_extension": ".py",
   "mimetype": "text/x-python",
   "name": "python",
   "nbconvert_exporter": "python",
   "pygments_lexer": "ipython3",
   "version": "3.10.9"
  },
  "orig_nbformat": 4
 },
 "nbformat": 4,
 "nbformat_minor": 2
}
