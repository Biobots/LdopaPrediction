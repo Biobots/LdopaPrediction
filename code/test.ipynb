{
 "cells": [
  {
   "cell_type": "code",
   "execution_count": 1,
   "metadata": {},
   "outputs": [],
   "source": [
    "import nibabel as nib\n",
    "import nilearn as nil\n",
    "import numpy as np\n",
    "import pandas as pd\n",
    "import os\n",
    "import os.path\n",
    "from nilearn import plotting, image\n",
    "from nipype.interfaces.spm import TwoSampleTTestDesign, EstimateModel, EstimateContrast, Threshold\n",
    "from nipype.pipeline.engine import Workflow, Node, MapNode\n",
    "import sys\n",
    "sys.path.append('..')\n",
    "from src.utils.data import getDataPandas, getPandas, getConfig\n",
    "os.chdir('..')"
   ]
  },
  {
   "cell_type": "code",
   "execution_count": 3,
   "metadata": {},
   "outputs": [],
   "source": [
    "data = getPandas('pat_data')\n",
    "data_config = getConfig('data')\n",
    "train_inds = data_config['indices']['train']\n",
    "test_inds = data_config['indices']['test']\n",
    "data_train = data.iloc[train_inds].reset_index(drop=True)\n",
    "data_test = data.iloc[test_inds].reset_index(drop=True)\n",
    "data_full = data.iloc[train_inds + test_inds].reset_index(drop=True)"
   ]
  },
  {
   "cell_type": "code",
   "execution_count": 4,
   "metadata": {},
   "outputs": [],
   "source": [
    "train_good = data_train[data_train['CAT_MDS']==1]\n",
    "train_bad = data_train[data_train['CAT_MDS']==0]\n",
    "#train_good = data_full[data_full['CAT']==1]\n",
    "#train_bad = data_full[data_full['CAT']==0]\n",
    "img_good = train_good['FSL_SGM']\n",
    "img_bad = train_bad['FSL_SGM']\n",
    "img_good = img_good.apply(os.path.abspath)\n",
    "img_bad = img_bad.apply(os.path.abspath)"
   ]
  },
  {
   "cell_type": "code",
   "execution_count": 5,
   "metadata": {},
   "outputs": [],
   "source": [
    "age_good = train_good['AGE']\n",
    "age_bad = train_bad['AGE']\n",
    "sex_good = train_good['SEX']\n",
    "sex_bad = train_bad['SEX']\n",
    "agelist = age_good.tolist() + age_bad.tolist()\n",
    "sexlist = sex_good.tolist() + sex_bad.tolist()"
   ]
  },
  {
   "cell_type": "code",
   "execution_count": 8,
   "metadata": {},
   "outputs": [
    {
     "name": "stdout",
     "output_type": "stream",
     "text": [
      "230407-10:23:56,18 nipype.workflow INFO:\n",
      "\t Workflow voxelwise settings: ['check', 'execution', 'logging', 'monitoring']\n",
      "230407-10:23:56,32 nipype.workflow INFO:\n",
      "\t Running serially.\n",
      "230407-10:23:56,33 nipype.workflow INFO:\n",
      "\t [Node] Setting-up \"voxelwise.ttest\" in \"/home/biobot/disk/ldopa/tmp/voxelwise/ttest\".\n",
      "230407-10:23:56,41 nipype.workflow INFO:\n",
      "\t [Node] Cached \"voxelwise.ttest\" - collecting precomputed outputs\n",
      "230407-10:23:56,41 nipype.workflow INFO:\n",
      "\t [Node] \"voxelwise.ttest\" found cached.\n",
      "230407-10:23:56,42 nipype.workflow INFO:\n",
      "\t [Node] Setting-up \"voxelwise.model\" in \"/home/biobot/disk/ldopa/tmp/voxelwise/model\".\n",
      "230407-10:23:56,44 nipype.workflow INFO:\n",
      "\t [Node] Cached \"voxelwise.model\" - collecting precomputed outputs\n",
      "230407-10:23:56,44 nipype.workflow INFO:\n",
      "\t [Node] \"voxelwise.model\" found cached.\n",
      "230407-10:23:56,44 nipype.workflow INFO:\n",
      "\t [Node] Setting-up \"voxelwise.contrast\" in \"/home/biobot/disk/ldopa/tmp/voxelwise/contrast\".\n",
      "230407-10:23:56,47 nipype.workflow INFO:\n",
      "\t [Node] Cached \"voxelwise.contrast\" - collecting precomputed outputs\n",
      "230407-10:23:56,47 nipype.workflow INFO:\n",
      "\t [Node] \"voxelwise.contrast\" found cached.\n",
      "230407-10:23:56,49 nipype.workflow INFO:\n",
      "\t [Node] Outdated cache found for \"voxelwise.thres\".\n",
      "230407-10:23:56,51 nipype.workflow INFO:\n",
      "\t [Node] Setting-up \"_thres0\" in \"/home/biobot/disk/ldopa/tmp/voxelwise/thres/mapflow/_thres0\".\n",
      "230407-10:23:56,53 nipype.workflow INFO:\n",
      "\t [Node] Outdated cache found for \"_thres0\".\n",
      "230407-10:23:56,59 nipype.workflow INFO:\n",
      "\t [Node] Executing \"_thres0\" <nipype.interfaces.spm.model.Threshold>\n",
      "230407-10:24:03,578 nipype.workflow INFO:\n",
      "\t [Node] Finished \"_thres0\", elapsed time 7.518289s.\n",
      "230407-10:24:03,582 nipype.workflow INFO:\n",
      "\t [Node] Setting-up \"_thres1\" in \"/home/biobot/disk/ldopa/tmp/voxelwise/thres/mapflow/_thres1\".\n",
      "230407-10:24:03,583 nipype.workflow INFO:\n",
      "\t [Node] Outdated cache found for \"_thres1\".\n",
      "230407-10:24:03,591 nipype.workflow INFO:\n",
      "\t [Node] Executing \"_thres1\" <nipype.interfaces.spm.model.Threshold>\n"
     ]
    },
    {
     "name": "stderr",
     "output_type": "stream",
     "text": [
      "stty: 标准输入: 对设备不适当的 ioctl 操作\n"
     ]
    },
    {
     "name": "stdout",
     "output_type": "stream",
     "text": [
      "230407-10:24:11,49 nipype.workflow INFO:\n",
      "\t [Node] Finished \"_thres1\", elapsed time 7.456399s.\n"
     ]
    },
    {
     "name": "stderr",
     "output_type": "stream",
     "text": [
      "stty: 标准输入: 对设备不适当的 ioctl 操作\n"
     ]
    },
    {
     "data": {
      "text/plain": [
       "<networkx.classes.digraph.DiGraph at 0x7f23834bef80>"
      ]
     },
     "execution_count": 8,
     "metadata": {},
     "output_type": "execute_result"
    }
   ],
   "source": [
    "wf = Workflow(name='voxelwise', base_dir='tmp')\n",
    "\n",
    "ttest = Node(TwoSampleTTestDesign(), name='ttest')\n",
    "ttest.inputs.group1_files = img_good.tolist()\n",
    "ttest.inputs.group2_files = img_bad.tolist()\n",
    "ttest.inputs.covariates = [\n",
    "    {'name': 'age', 'vector': agelist},\n",
    "    {'name': 'sex', 'vector': sexlist},\n",
    "]\n",
    "\n",
    "model = Node(EstimateModel(), name='model')\n",
    "model.inputs.estimation_method = {'Classical': 1}\n",
    "\n",
    "contrast = Node(EstimateContrast(), name='contrast')\n",
    "con1 = ('good>bad','T', ['Group_{1}','Group_{2}'],[1,-1])\n",
    "con2 = ('bad>good','T', ['Group_{1}','Group_{2}'],[-1,1])\n",
    "con_list = [con1, con2]\n",
    "contrast.inputs.contrasts = con_list\n",
    "contrast.inputs.group_contrast = True\n",
    "\n",
    "threshold = MapNode(Threshold(\n",
    "    contrast_index=1,\n",
    "    use_topo_fdr=True,\n",
    "    use_fwe_correction=False,\n",
    "    extent_threshold=0,\n",
    "    height_threshold=0.05,\n",
    "    height_threshold_type='p-value',\n",
    "    extent_fdr_p_threshold=0.05), name='thres', iterfield=['stat_image'])\n",
    "\n",
    "wf.connect([\n",
    "    (ttest, model, [('spm_mat_file', 'spm_mat_file')]),\n",
    "    (model, contrast, [('spm_mat_file', 'spm_mat_file'), ('beta_images', 'beta_images'), ('residual_image', 'residual_image')]),\n",
    "    (contrast, threshold, [('spm_mat_file', 'spm_mat_file'), ('spmT_images', 'stat_image')])\n",
    "])\n",
    "\n",
    "wf.run()"
   ]
  },
  {
   "cell_type": "code",
   "execution_count": 4,
   "metadata": {},
   "outputs": [],
   "source": [
    "data = getPandas('hc_data')\n",
    "label_list = list(data['IMG_ROOT'] + os.sep + 'cat12' + os.sep + 'label' + os.sep + 'catROI_raw.xml')"
   ]
  }
 ],
 "metadata": {
  "kernelspec": {
   "display_name": "Python 3",
   "language": "python",
   "name": "python3"
  },
  "language_info": {
   "codemirror_mode": {
    "name": "ipython",
    "version": 3
   },
   "file_extension": ".py",
   "mimetype": "text/x-python",
   "name": "python",
   "nbconvert_exporter": "python",
   "pygments_lexer": "ipython3",
   "version": "3.10.9"
  },
  "orig_nbformat": 4
 },
 "nbformat": 4,
 "nbformat_minor": 2
}
